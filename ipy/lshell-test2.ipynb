{
 "cells": [
  {
   "cell_type": "code",
   "execution_count": 1,
   "metadata": {
    "collapsed": true
   },
   "outputs": [],
   "source": [
    "import pandas\n",
    "import datetime\n",
    "import numpy\n",
    "import scipy.optimize\n",
    "import seaborn as sns\n",
    "import matplotlib.pyplot as plt\n",
    "import os\n",
    "from matplotlib.colors import ListedColormap\n",
    "from matplotlib.colors import Normalize\n",
    "from matplotlib import ticker\n",
    "%matplotlib inline\n",
    "from matplotlib import rcParams"
   ]
  },
  {
   "cell_type": "code",
   "execution_count": 2,
   "metadata": {
    "collapsed": true
   },
   "outputs": [],
   "source": [
    "# some constants and cutoffs\n",
    "mincutOffLosVel = 50.\n",
    "maxcutOffLosVel = 2000.\n",
    "mincutOffspWdth = 100.\n",
    "maxcutOffspWdth = 500.\n",
    "minCutOffPwr = 3.\n",
    "gridSizenormMLT = 0.5\n",
    "gridSizeMLAT = 0.25\n",
    "minNumPntsCutoffCell = 5 # Somewhat arbitrary determination!!"
   ]
  },
  {
   "cell_type": "code",
   "execution_count": 3,
   "metadata": {},
   "outputs": [
    {
     "data": {
      "text/html": [
       "<div>\n",
       "<table border=\"1\" class=\"dataframe\">\n",
       "  <thead>\n",
       "    <tr style=\"text-align: right;\">\n",
       "      <th></th>\n",
       "      <th>beam</th>\n",
       "      <th>range</th>\n",
       "      <th>geoAzm</th>\n",
       "      <th>magAzm</th>\n",
       "      <th>vLos</th>\n",
       "      <th>MLAT</th>\n",
       "      <th>MLT</th>\n",
       "      <th>MLON</th>\n",
       "      <th>GLAT</th>\n",
       "      <th>GLON</th>\n",
       "      <th>radId</th>\n",
       "      <th>radCode</th>\n",
       "      <th>normMLT</th>\n",
       "      <th>normMLTRound</th>\n",
       "      <th>spwdth</th>\n",
       "      <th>pwr</th>\n",
       "    </tr>\n",
       "  </thead>\n",
       "  <tbody>\n",
       "    <tr>\n",
       "      <th>0</th>\n",
       "      <td>5</td>\n",
       "      <td>27</td>\n",
       "      <td>-41.65</td>\n",
       "      <td>-38.83</td>\n",
       "      <td>-378.1679</td>\n",
       "      <td>56.7707</td>\n",
       "      <td>2.5717</td>\n",
       "      <td>-18.7139</td>\n",
       "      <td>45.3710</td>\n",
       "      <td>-89.3080</td>\n",
       "      <td>33</td>\n",
       "      <td>bks</td>\n",
       "      <td>2.5717</td>\n",
       "      <td>2</td>\n",
       "      <td>108.6326</td>\n",
       "      <td>12.8346</td>\n",
       "    </tr>\n",
       "    <tr>\n",
       "      <th>1</th>\n",
       "      <td>5</td>\n",
       "      <td>28</td>\n",
       "      <td>-41.65</td>\n",
       "      <td>-39.16</td>\n",
       "      <td>-396.3842</td>\n",
       "      <td>57.0027</td>\n",
       "      <td>2.5290</td>\n",
       "      <td>-19.3536</td>\n",
       "      <td>45.6378</td>\n",
       "      <td>-89.7470</td>\n",
       "      <td>33</td>\n",
       "      <td>bks</td>\n",
       "      <td>2.5290</td>\n",
       "      <td>2</td>\n",
       "      <td>108.6326</td>\n",
       "      <td>9.4804</td>\n",
       "    </tr>\n",
       "    <tr>\n",
       "      <th>2</th>\n",
       "      <td>5</td>\n",
       "      <td>29</td>\n",
       "      <td>-41.65</td>\n",
       "      <td>-39.50</td>\n",
       "      <td>-379.2044</td>\n",
       "      <td>57.2309</td>\n",
       "      <td>2.4859</td>\n",
       "      <td>-20.0005</td>\n",
       "      <td>45.9024</td>\n",
       "      <td>-90.1899</td>\n",
       "      <td>33</td>\n",
       "      <td>bks</td>\n",
       "      <td>2.4859</td>\n",
       "      <td>2</td>\n",
       "      <td>108.6326</td>\n",
       "      <td>8.7086</td>\n",
       "    </tr>\n",
       "    <tr>\n",
       "      <th>3</th>\n",
       "      <td>5</td>\n",
       "      <td>30</td>\n",
       "      <td>-41.65</td>\n",
       "      <td>-39.85</td>\n",
       "      <td>-368.0763</td>\n",
       "      <td>57.4553</td>\n",
       "      <td>2.4423</td>\n",
       "      <td>-20.6546</td>\n",
       "      <td>46.1649</td>\n",
       "      <td>-90.6368</td>\n",
       "      <td>33</td>\n",
       "      <td>bks</td>\n",
       "      <td>2.4423</td>\n",
       "      <td>2</td>\n",
       "      <td>101.2517</td>\n",
       "      <td>7.1071</td>\n",
       "    </tr>\n",
       "    <tr>\n",
       "      <th>4</th>\n",
       "      <td>6</td>\n",
       "      <td>25</td>\n",
       "      <td>-37.79</td>\n",
       "      <td>-33.55</td>\n",
       "      <td>-221.1927</td>\n",
       "      <td>56.8363</td>\n",
       "      <td>2.7261</td>\n",
       "      <td>-16.3974</td>\n",
       "      <td>45.3789</td>\n",
       "      <td>-87.7046</td>\n",
       "      <td>33</td>\n",
       "      <td>bks</td>\n",
       "      <td>2.7261</td>\n",
       "      <td>2</td>\n",
       "      <td>102.3670</td>\n",
       "      <td>14.6025</td>\n",
       "    </tr>\n",
       "  </tbody>\n",
       "</table>\n",
       "</div>"
      ],
      "text/plain": [
       "   beam  range  geoAzm  magAzm      vLos     MLAT     MLT     MLON     GLAT  \\\n",
       "0     5     27  -41.65  -38.83 -378.1679  56.7707  2.5717 -18.7139  45.3710   \n",
       "1     5     28  -41.65  -39.16 -396.3842  57.0027  2.5290 -19.3536  45.6378   \n",
       "2     5     29  -41.65  -39.50 -379.2044  57.2309  2.4859 -20.0005  45.9024   \n",
       "3     5     30  -41.65  -39.85 -368.0763  57.4553  2.4423 -20.6546  46.1649   \n",
       "4     6     25  -37.79  -33.55 -221.1927  56.8363  2.7261 -16.3974  45.3789   \n",
       "\n",
       "      GLON  radId radCode  normMLT  normMLTRound    spwdth      pwr  \n",
       "0 -89.3080     33     bks   2.5717             2  108.6326  12.8346  \n",
       "1 -89.7470     33     bks   2.5290             2  108.6326   9.4804  \n",
       "2 -90.1899     33     bks   2.4859             2  108.6326   8.7086  \n",
       "3 -90.6368     33     bks   2.4423             2  101.2517   7.1071  \n",
       "4 -87.7046     33     bks   2.7261             2  102.3670  14.6025  "
      ]
     },
     "execution_count": 3,
     "metadata": {},
     "output_type": "execute_result"
    }
   ],
   "source": [
    "inpCols = [ \"beam\", \"range\", \"geoAzm\", \"magAzm\", \"vLos\"\\\n",
    "           , \"MLAT\", \"MLT\", \"MLON\", \"GLAT\", \"GLON\", \"radId\"\\\n",
    "           , \"radCode\",\"normMLT\", \"normMLTRound\", \"spwdth\", \"pwr\" ]\n",
    "velsDataDF = pandas.read_csv(\"../data/apr9-840-losVels.txt\")\n",
    "velsDataDF.columns = inpCols\n",
    "velsDataDF = velsDataDF[ (abs(velsDataDF[\"vLos\"]) >= mincutOffLosVel) &\\\n",
    "                       (velsDataDF[\"spwdth\"] >= mincutOffspWdth)&\\\n",
    "                       (velsDataDF[\"pwr\"] >= minCutOffPwr)&\\\n",
    "                       (abs(velsDataDF[\"vLos\"]) <= maxcutOffLosVel)&\\\n",
    "                       (velsDataDF[\"spwdth\"] <= maxcutOffspWdth)].reset_index(drop=True)\n",
    "velsDataDF.head()"
   ]
  },
  {
   "cell_type": "code",
   "execution_count": 61,
   "metadata": {},
   "outputs": [
    {
     "data": {
      "image/png": "[encoded data removed]",
      "text/plain": [
       "<matplotlib.figure.Figure at 0x7f815d2fb310>"
      ]
     },
     "metadata": {},
     "output_type": "display_data"
    }
   ],
   "source": [
    "selLat = 58.5\n",
    "selMLT = -1.5\n",
    "delLat = 0.25\n",
    "delMLT = 1.5\n",
    "fig1 = plt.figure()\n",
    "ax = fig1.add_subplot(111)\n",
    "selDF = velsDataDF[ (velsDataDF[\"MLAT\"] >= (selLat - delLat) ) &\\\n",
    "          (velsDataDF[\"MLAT\"] < (selLat + delLat) )]\n",
    "# Seaborn styling\n",
    "sns.set_style(\"darkgrid\")\n",
    "sns.set_context(\"paper\")\n",
    "seaMap = ListedColormap(sns.color_palette(\"Spectral\"))\n",
    "selDF.plot( kind='scatter',\n",
    "              x='magAzm',\n",
    "              y='normMLT',\n",
    "              c='vLos',\n",
    "              s=10., cmap=seaMap, ax=ax)\n",
    "fig1.savefig(\"../figs/test2.pdf\",bbox_inches='tight')"
   ]
  },
  {
   "cell_type": "code",
   "execution_count": 56,
   "metadata": {},
   "outputs": [
    {
     "data": {
      "text/plain": [
       "<matplotlib.axes._subplots.AxesSubplot at 0x7f811a276510>"
      ]
     },
     "execution_count": 56,
     "metadata": {},
     "output_type": "execute_result"
    },
    {
     "data": {
      "image/png": "[encoded data removed]",
      "text/plain": [
       "<matplotlib.figure.Figure at 0x7f811a92ffd0>"
      ]
     },
     "metadata": {},
     "output_type": "display_data"
    }
   ],
   "source": [
    "# print selDF[ [\"MLAT\", \"normMLT\", \"vLos\", \"magAzm\" ] ]\n",
    "selDF.plot( x=\"magAzm\", y=\"normMLT\", kind=\"scatter\" )"
   ]
  },
  {
   "cell_type": "code",
   "execution_count": null,
   "metadata": {
    "collapsed": true
   },
   "outputs": [],
   "source": []
  }
 ],
 "metadata": {
  "kernelspec": {
   "display_name": "Python 2",
   "language": "python",
   "name": "python2"
  },
  "language_info": {
   "codemirror_mode": {
    "name": "ipython",
    "version": 2
   },
   "file_extension": ".py",
   "mimetype": "text/x-python",
   "name": "python",
   "nbconvert_exporter": "python",
   "pygments_lexer": "ipython2",
   "version": "2.7.6"
  }
 },
 "nbformat": 4,
 "nbformat_minor": 2
}
