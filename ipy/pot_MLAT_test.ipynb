{
 "cells": [
  {
   "cell_type": "code",
   "execution_count": 1,
   "metadata": {
    "collapsed": true
   },
   "outputs": [],
   "source": [
    "import pandas\n",
    "import feather\n",
    "import datetime\n",
    "import numpy\n",
    "from scipy.optimize import curve_fit\n",
    "import seaborn as sns\n",
    "import matplotlib.pyplot as plt\n",
    "from matplotlib.colors import ListedColormap\n",
    "from matplotlib.colors import Normalize\n",
    "from matplotlib import ticker\n",
    "from matplotlib.ticker import FuncFormatter, MaxNLocator\n",
    "from davitpy.models import *\n",
    "from davitpy import utils\n",
    "from aacgmv2 import convert_mlt\n",
    "%matplotlib inline"
   ]
  },
  {
   "cell_type": "code",
   "execution_count": 2,
   "metadata": {
    "collapsed": true
   },
   "outputs": [],
   "source": [
    "sizeAsyCutoff = 50."
   ]
  },
  {
   "cell_type": "code",
   "execution_count": 3,
   "metadata": {},
   "outputs": [
    {
     "data": {
      "text/html": [
       "<div>\n",
       "<table border=\"1\" class=\"dataframe\">\n",
       "  <thead>\n",
       "    <tr style=\"text-align: right;\">\n",
       "      <th></th>\n",
       "      <th>AsyH</th>\n",
       "      <th>MLAT</th>\n",
       "      <th>normMLT</th>\n",
       "      <th>potential</th>\n",
       "      <th>normLAT</th>\n",
       "      <th>potMagn</th>\n",
       "      <th>mlt</th>\n",
       "      <th>asyCnt</th>\n",
       "      <th>AsyHRnd</th>\n",
       "      <th>peakPotMagn</th>\n",
       "      <th>normPot</th>\n",
       "    </tr>\n",
       "  </thead>\n",
       "  <tbody>\n",
       "    <tr>\n",
       "      <th>0</th>\n",
       "      <td>45.0</td>\n",
       "      <td>56.5</td>\n",
       "      <td>-7.0</td>\n",
       "      <td>-2.21</td>\n",
       "      <td>-2.0</td>\n",
       "      <td>2.21</td>\n",
       "      <td>17.0</td>\n",
       "      <td>186</td>\n",
       "      <td>60.0</td>\n",
       "      <td>34.55</td>\n",
       "      <td>0.063965</td>\n",
       "    </tr>\n",
       "    <tr>\n",
       "      <th>1</th>\n",
       "      <td>45.0</td>\n",
       "      <td>57.0</td>\n",
       "      <td>-7.0</td>\n",
       "      <td>-3.82</td>\n",
       "      <td>-1.5</td>\n",
       "      <td>3.82</td>\n",
       "      <td>17.0</td>\n",
       "      <td>186</td>\n",
       "      <td>60.0</td>\n",
       "      <td>34.55</td>\n",
       "      <td>0.110564</td>\n",
       "    </tr>\n",
       "    <tr>\n",
       "      <th>2</th>\n",
       "      <td>45.0</td>\n",
       "      <td>57.5</td>\n",
       "      <td>-7.0</td>\n",
       "      <td>-5.75</td>\n",
       "      <td>-1.0</td>\n",
       "      <td>5.75</td>\n",
       "      <td>17.0</td>\n",
       "      <td>186</td>\n",
       "      <td>60.0</td>\n",
       "      <td>34.55</td>\n",
       "      <td>0.166425</td>\n",
       "    </tr>\n",
       "    <tr>\n",
       "      <th>3</th>\n",
       "      <td>45.0</td>\n",
       "      <td>58.5</td>\n",
       "      <td>-7.0</td>\n",
       "      <td>-7.77</td>\n",
       "      <td>0.0</td>\n",
       "      <td>7.77</td>\n",
       "      <td>17.0</td>\n",
       "      <td>186</td>\n",
       "      <td>60.0</td>\n",
       "      <td>34.55</td>\n",
       "      <td>0.224891</td>\n",
       "    </tr>\n",
       "    <tr>\n",
       "      <th>4</th>\n",
       "      <td>45.0</td>\n",
       "      <td>59.0</td>\n",
       "      <td>-7.0</td>\n",
       "      <td>-10.10</td>\n",
       "      <td>0.5</td>\n",
       "      <td>10.10</td>\n",
       "      <td>17.0</td>\n",
       "      <td>186</td>\n",
       "      <td>60.0</td>\n",
       "      <td>34.55</td>\n",
       "      <td>0.292330</td>\n",
       "    </tr>\n",
       "  </tbody>\n",
       "</table>\n",
       "</div>"
      ],
      "text/plain": [
       "   AsyH  MLAT  normMLT  potential  normLAT  potMagn   mlt  asyCnt  AsyHRnd  \\\n",
       "0  45.0  56.5     -7.0      -2.21     -2.0     2.21  17.0     186     60.0   \n",
       "1  45.0  57.0     -7.0      -3.82     -1.5     3.82  17.0     186     60.0   \n",
       "2  45.0  57.5     -7.0      -5.75     -1.0     5.75  17.0     186     60.0   \n",
       "3  45.0  58.5     -7.0      -7.77      0.0     7.77  17.0     186     60.0   \n",
       "4  45.0  59.0     -7.0     -10.10      0.5    10.10  17.0     186     60.0   \n",
       "\n",
       "   peakPotMagn   normPot  \n",
       "0        34.55  0.063965  \n",
       "1        34.55  0.110564  \n",
       "2        34.55  0.166425  \n",
       "3        34.55  0.224891  \n",
       "4        34.55  0.292330  "
      ]
     },
     "execution_count": 3,
     "metadata": {},
     "output_type": "execute_result"
    }
   ],
   "source": [
    "potDF = feather.read_dataframe('../data/potDF.feather')\n",
    "# There are too many Asy values, to model \n",
    "# we'll round it off to nearest 40. This\n",
    "# is equivalent to binning.\n",
    "# Get number of values for different Asy Inds\n",
    "# discard those values which have low counts\n",
    "sizeAsyDF = potDF.groupby(\"AsyH\").size().reset_index()\n",
    "sizeAsyDF.columns = [ \"AsyH\", \"asyCnt\" ]\n",
    "sizeAsyDF = sizeAsyDF[ sizeAsyDF[\"asyCnt\"] >= sizeAsyCutoff]\n",
    "potDF = pandas.merge(potDF, sizeAsyDF,\\\n",
    "                     on = \"AsyH\", how=\"inner\"\\\n",
    "                    ).reset_index(drop=True)\n",
    "potDF[\"AsyHRnd\"] = numpy.round(potDF[\"AsyH\"]/30.)*30.\n",
    "# Get peak potentials\n",
    "peakPotDF = potDF[[ \"AsyH\", \"potMagn\" ]].groupby( \"AsyH\" ).max().reset_index()\n",
    "peakPotDF.columns = [ \"AsyH\", \"peakPotMagn\" ]\n",
    "# Normalize the values of potential\n",
    "# for every AsyH value. This makes \n",
    "# fitting easy!\n",
    "potDF = pandas.merge( potDF, peakPotDF, on=\"AsyH\" )\n",
    "potDF[\"normPot\"] = potDF[\"potMagn\"]/potDF[\"peakPotMagn\"]\n",
    "potDF.head()"
   ]
  },
  {
   "cell_type": "code",
   "execution_count": 4,
   "metadata": {
    "collapsed": true,
    "scrolled": true
   },
   "outputs": [],
   "source": [
    "# We'll normalize potentials differently here\n",
    "# We'll find max potentials(magn) at every\n",
    "# MLT, AsyH index, we can then model MLAT\n",
    "# dependence at that AsyH,MLT bin.\n",
    "mltAsyPotDFMax = potDF[ [\"AsyHRnd\", \"normMLT\", \"potMagn\"]\\\n",
    "                ].groupby( [\"AsyHRnd\", \"normMLT\"] \\\n",
    "                ).max().reset_index()\n",
    "\n",
    "mltAsyPotDFMax.columns = [ \"AsyHRnd\", \"normMLT\", \"max_potMagn\" ]\n",
    "mlatMLTPotDF = potDF[ [\"AsyHRnd\", \"normMLT\", \"potMagn\", \"MLAT\"]\\\n",
    "                ].groupby( [\"AsyHRnd\", \"normMLT\", \"MLAT\"] \\\n",
    "                ).max().reset_index()\n",
    "\n",
    "mlatMLTPotDF = pandas.merge( mlatMLTPotDF, mltAsyPotDFMax, on=[ \"AsyHRnd\", \"normMLT\" ] )\n",
    "mlatMLTPotDF[\"normPot\"] = mlatMLTPotDF[\"potMagn\"]/mlatMLTPotDF[\"max_potMagn\"]\n",
    "# Normalize MLATs\n",
    "mltLatsDF = potDF[ [\"AsyHRnd\", \"normMLT\", \"MLAT\"]\\\n",
    "                ].groupby( [\"AsyHRnd\", \"normMLT\"] \\\n",
    "                ).max().reset_index()\n",
    "mltLatsDF.columns = [ \"AsyHRnd\", \"normMLT\", \"max_MLAT\" ]\n",
    "minLatsDF = potDF[ [\"AsyHRnd\", \"normMLT\", \"MLAT\"]\\\n",
    "                ].groupby( [\"AsyHRnd\", \"normMLT\"] \\\n",
    "                ).min().reset_index()\n",
    "minLatsDF.columns = [ \"AsyHRnd\", \"normMLT\", \"min_MLAT\" ]\n",
    "mltLatsDF = pandas.merge( mltLatsDF, minLatsDF,\\\n",
    "                         on=[\"AsyHRnd\", \"normMLT\"],\\\n",
    "                         how=\"inner\" )\n",
    "mltLatsDF[\"delMLAT\"] = mltLatsDF[\"max_MLAT\"] - mltLatsDF[\"min_MLAT\"]\n",
    "mlatMLTPotDF = pandas.merge( mlatMLTPotDF, mltLatsDF, on=[ \"AsyHRnd\", \"normMLT\" ] )\n",
    "mlatMLTPotDF[\"normMLAT\"] = mlatMLTPotDF[\"MLAT\"] - mlatMLTPotDF[\"min_MLAT\"]\n",
    "mlatMLTPotDF[\"normMLAT\"] = mlatMLTPotDF[\"normMLAT\"]/mlatMLTPotDF[\"delMLAT\"]\n",
    "\n",
    "# print mlatMLTPotDF[ mlatMLTPotDF[\"normMLAT\"] == 0 ][ [\"AsyHRnd\", \"normMLT\", \"MLAT\", \"normPot\", \"normMLAT\"] ]"
   ]
  },
  {
   "cell_type": "code",
   "execution_count": 5,
   "metadata": {
    "collapsed": true
   },
   "outputs": [],
   "source": [
    "# To estimate MLAT variations we\n",
    "# fit a polynomial function!\n",
    "def mlat_mlt_fit_func((mlat, normMLT, asy),\\\n",
    "            c0_a, c0_b, c0_c, c1_a, c1_b, c1_c, c2_a, c2_b, c2_c):\n",
    "    c0 = c0_a + c0_b * asy + c0_c*normMLT\n",
    "    c1 = c1_a + c1_b * asy + c1_c*normMLT\n",
    "    c2 = c2_a + c2_b * asy + c2_c*normMLT\n",
    "    return c0 + c1*mlat + c2*numpy.square(mlat)\n",
    "\n",
    "# def mlat_mlt_fit_func((mlat, normMLT, asy),\\\n",
    "#             c0_a, c0_b, c0_c, c1, c2):\n",
    "#     c0 = c0_a + c0_b * asy + c0_c*normMLT\n",
    "# #     c1 = c1_a + c1_b * asy + c1_c*normMLT\n",
    "# #     c2 = c2_a + c2_b * asy + c2_c*normMLT\n",
    "#     return c0 + c1*numpy.exp( mlat*c2 )"
   ]
  },
  {
   "cell_type": "code",
   "execution_count": 6,
   "metadata": {},
   "outputs": [
    {
     "name": "stdout",
     "output_type": "stream",
     "text": [
      "[0.05447, 0.00034, 0.00614, 0.75923, 0.00687, 0.05281, 0.18218, -0.00776, -0.0636]\n"
     ]
    }
   ],
   "source": [
    "poptMlatMLTPot, pcovMlatMLTPot = curve_fit(mlat_mlt_fit_func,\\\n",
    "                               (mlatMLTPotDF['normMLAT'].T,\\\n",
    "                                mlatMLTPotDF['normMLT'].T, mlatMLTPotDF['AsyHRnd'].T),\\\n",
    "                               mlatMLTPotDF['normPot'], p0=(1., 1., 1., 1., 1., 1., 1., 1., 1.))\n",
    "poptMlatMLTPot = [ round(x,5) for x in poptMlatMLTPot ]\n",
    "print poptMlatMLTPot\n",
    "\n",
    "predAsyArr = []\n",
    "predMlatArr = []\n",
    "predPotArr = []\n",
    "predNormMltArr = []\n",
    "\n",
    "for currAsy in mlatMLTPotDF[\"AsyHRnd\"].unique():\n",
    "    for currNMLT in mlatMLTPotDF[\"normMLT\"].unique():\n",
    "        for cpMlat in numpy.arange(0,1.1,0.1):\n",
    "            predMlatArr.append( cpMlat )\n",
    "            predAsyArr.append( currAsy )\n",
    "            predNormMltArr.append( currNMLT )\n",
    "            # Fit params\n",
    "            predPotArr.append( mlat_mlt_fit_func(\\\n",
    "                                        (cpMlat, currNMLT,\\\n",
    "                                         currAsy), *poptMlatMLTPot) )\n",
    "            \n",
    "    \n",
    "predMlatMLTPotDF = pandas.DataFrame({\n",
    "                \"predPot\" : predPotArr,\n",
    "                \"predMLAT\" : predMlatArr,\n",
    "                \"predAsy\" : predAsyArr,\n",
    "                \"predNormMlt\" : predNormMltArr\n",
    "                })"
   ]
  },
  {
   "cell_type": "code",
   "execution_count": 7,
   "metadata": {},
   "outputs": [
    {
     "data": {
      "image/png": "[encoded data removed]",
      "text/plain": [
       "<matplotlib.figure.Figure at 0x7f36d4dad350>"
      ]
     },
     "metadata": {},
     "output_type": "display_data"
    }
   ],
   "source": [
    "def format_mlt_normMLT_ticks(tick_val, tick_pos):\n",
    "    if tick_val < 0:\n",
    "        return str(tick_val + 24)\n",
    "    else:\n",
    "        return str(tick_val)\n",
    "\n",
    "normMLTList = [-6., -4., -2., 2.]#potDF[\"normMLT\"].unique()[1::2]\n",
    "selAsy = 60.\n",
    "\n",
    "sns.set_style(\"whitegrid\")\n",
    "sns.set_context(\"paper\")\n",
    "\n",
    "f = plt.figure(figsize=(12, 8))\n",
    "ax = []\n",
    "ax.append( f.add_subplot(2,2,1) )\n",
    "ax.append( f.add_subplot(2,2,2) )\n",
    "ax.append( f.add_subplot(2,2,3) )\n",
    "ax.append( f.add_subplot(2,2,4) )\n",
    "# ax.append( f.add_subplot(3,2,5) )\n",
    "\n",
    "for mind, currMLT in enumerate(normMLTList):\n",
    "    subDF1 = mlatMLTPotDF[ (mlatMLTPotDF[\"normMLT\"] == currMLT)&\\\n",
    "                              (mlatMLTPotDF[\"AsyHRnd\"] == selAsy) ]\n",
    "    subDF2a = predMlatMLTPotDF[ (predMlatMLTPotDF[\"predNormMlt\"] == currMLT) &\\\n",
    "                              (predMlatMLTPotDF[\"predAsy\"] == selAsy) ]\n",
    "    if currMLT < 0:\n",
    "        currMLTStr = str( currMLT + 24. )\n",
    "    else:\n",
    "        currMLTStr = str( currMLT )\n",
    "    ax[mind].scatter( subDF1[\"normMLAT\"].values, subDF1[\"normPot\"].values, c=\"b\", label=\"data\" )\n",
    "    ax[mind].plot( subDF2a[\"predMLAT\"].values, subDF2a[\"predPot\"].values, c=\"r\", label=\"fit\")\n",
    "    ax[mind].set_xlabel( \"Norm. MLat\", fontsize=14 )\n",
    "    ax[mind].set_ylabel( \"Norm. Potential\", fontsize=14 )\n",
    "    ax[mind].tick_params(labelsize=12)\n",
    "    ax[mind].legend()\n",
    "    ax[mind].xaxis.set_major_formatter(FuncFormatter(format_mlt_normMLT_ticks))\n",
    "    ax[mind].legend(prop={'size': 12})\n",
    "plt.savefig(\"../figs/Pot-MLAT-model.pdf\",bbox_inches='tight')"
   ]
  },
  {
   "cell_type": "code",
   "execution_count": null,
   "metadata": {
    "collapsed": true
   },
   "outputs": [],
   "source": []
  }
 ],
 "metadata": {
  "kernelspec": {
   "display_name": "Python 2",
   "language": "python",
   "name": "python2"
  },
  "language_info": {
   "codemirror_mode": {
    "name": "ipython",
    "version": 2
   },
   "file_extension": ".py",
   "mimetype": "text/x-python",
   "name": "python",
   "nbconvert_exporter": "python",
   "pygments_lexer": "ipython2",
   "version": "2.7.6"
  }
 },
 "nbformat": 4,
 "nbformat_minor": 2
}
