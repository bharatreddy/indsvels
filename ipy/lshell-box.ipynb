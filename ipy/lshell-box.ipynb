{
 "cells": [
  {
   "cell_type": "code",
   "execution_count": 1,
   "metadata": {
    "collapsed": true
   },
   "outputs": [],
   "source": [
    "import pandas\n",
    "import datetime\n",
    "import numpy\n",
    "import scipy.optimize\n",
    "import seaborn as sns\n",
    "import matplotlib.pyplot as plt\n",
    "import os\n",
    "from matplotlib.colors import ListedColormap\n",
    "from matplotlib.colors import Normalize\n",
    "from matplotlib import ticker\n",
    "%matplotlib inline\n",
    "from matplotlib import rcParams"
   ]
  },
  {
   "cell_type": "code",
   "execution_count": null,
   "metadata": {
    "collapsed": true
   },
   "outputs": [],
   "source": [
    "# some constants and cutoffs\n",
    "mincutOffLosVel = 50.\n",
    "maxcutOffLosVel = 2000.\n",
    "mincutOffspWdth = 100.\n",
    "maxcutOffspWdth = 500.\n",
    "minCutOffPwr = 3.\n",
    "cellSizenormMLT = 1.\n",
    "cellSizeMLAT = 0.5\n",
    "minNumPntsCutoffCell = 5 # Somewhat arbitrary determination!!"
   ]
  },
  {
   "cell_type": "code",
   "execution_count": null,
   "metadata": {},
   "outputs": [],
   "source": [
    "inpCols = [ \"beam\", \"range\", \"geoAzm\", \"magAzm\", \"vLos\"\\\n",
    "           , \"MLAT\", \"MLT\", \"MLON\", \"GLAT\", \"GLON\", \"radId\"\\\n",
    "           , \"radCode\",\"normMLT\", \"normMLTRound\", \"spwdth\", \"pwr\" ]\n",
    "velsDataDF = pandas.read_csv(\"../data/apr9-840-losVels.txt\")\n",
    "velsDataDF.columns = inpCols\n",
    "velsDataDF = velsDataDF[ (abs(velsDataDF[\"vLos\"]) >= mincutOffLosVel) &\\\n",
    "                       (velsDataDF[\"spwdth\"] >= mincutOffspWdth)&\\\n",
    "                       (velsDataDF[\"pwr\"] >= minCutOffPwr)&\\\n",
    "                       (abs(velsDataDF[\"vLos\"]) <= maxcutOffLosVel)&\\\n",
    "                       (velsDataDF[\"spwdth\"] <= maxcutOffspWdth)].reset_index(drop=True)\n",
    "velsDataDF.head()"
   ]
  },
  {
   "cell_type": "code",
   "execution_count": null,
   "metadata": {},
   "outputs": [],
   "source": [
    "minLat = round( velsDataDF[\"MLAT\"].min() )\n",
    "maxLat = round( velsDataDF[\"MLAT\"].max() )\n",
    "minnormMLT = round( velsDataDF[\"normMLT\"].min() )\n",
    "maxnormMLT = round( velsDataDF[\"normMLT\"].max() )\n",
    "# Keep lists for storing details later\n",
    "uniqAzimListMlat = []\n",
    "uniqAzimListMlt = []\n",
    "uniqAzimListdelMLT = []\n",
    "uniqAzimListAzimsUniq = []\n",
    "uniqAzimListAzimRange = []\n",
    "# loop through each cell and get an l-shell fit\n",
    "for la in numpy.arange( minLat, maxLat+1, cellSizeMLAT ):\n",
    "    for ml in numpy.arange( minnormMLT, maxnormMLT+1, cellSizenormMLT ):\n",
    "        dfSel = velsDataDF[ (velsDataDF[\"MLAT\"] >= la - cellSizeMLAT/2.) &\\\n",
    "                              (velsDataDF[\"MLAT\"] < la + cellSizeMLAT/2.) ]\n",
    "        # round off azimuths for ease of calc\n",
    "        dfSel[\"rndAzim\"] = dfSel[\"magAzm\"].round()\n",
    "        # get MLTs to nearest half\n",
    "        dfSel[\"normMLTRound\"] = [ \\\n",
    "                round(x * 2) / 2 for\\\n",
    "                x in dfSel[\"normMLT\"] ]\n",
    "        mltAzmDF = dfSel.groupby([\"normMLTRound\"])\\\n",
    "            [\"rndAzim\"].aggregate(\\\n",
    "                lambda x: tuple(x)).reset_index()\n",
    "        # get MLTs closest to the current one\n",
    "        # we'll check the closest MLTs which are\n",
    "        # 0, 0.5 and 1 MLT. We'll not go beyond \n",
    "        # +/- 1 hour in MLT (2 MLT hour range)\n",
    "        # keep a list of unq azim values at diff\n",
    "        # del MLT ranges\n",
    "        fullUniqAzimList = []\n",
    "        for delMLT in numpy.arange( 0., 2., 0.5 ):            \n",
    "            currAzimValsDF = mltAzmDF[ \\\n",
    "                abs(mltAzmDF[\"normMLTRound\"] - ml) <= delMLT ]#[\"rndAzim\"]\n",
    "            # Check if there are any values\n",
    "            if currAzimValsDF.shape[0] == 0:\n",
    "                continue\n",
    "            currUniqazimList = list( set( [ j for i in\\\n",
    "                        currAzimValsDF[\"rndAzim\"].tolist()\\\n",
    "                        for j in i ] ) )\n",
    "            fullUniqAzimList = list( set( fullUniqAzimList + currUniqazimList ) )\n",
    "            uniqAzimListMlat.append( la )\n",
    "            uniqAzimListMlt.append( ml )\n",
    "            uniqAzimListdelMLT.append( delMLT )\n",
    "            uniqAzimListAzimsUniq.append( fullUniqAzimList )\n",
    "            uniqAzimListAzimRange.append( \\\n",
    "                    max(fullUniqAzimList) - min(fullUniqAzimList) )\n",
    "                \n",
    "# convert to a dataframe\n",
    "azimCharDF = pandas.DataFrame(\n",
    "    {'MLAT': uniqAzimListMlat,\n",
    "     'MLT': uniqAzimListMlt,\n",
    "     'delMLT': uniqAzimListdelMLT,\n",
    "     'uniqAzmiList': uniqAzimListAzimsUniq,\n",
    "     'azimRng': uniqAzimListAzimRange\n",
    "    })\n",
    "# In each row get a count of uniqAzims\n",
    "azimCharDF[\"countAzims\"] = [ len(x) for x in azimCharDF[\"uniqAzmiList\"] ]\n",
    "azimCharDF.head(100)"
   ]
  },
  {
   "cell_type": "code",
   "execution_count": null,
   "metadata": {
    "collapsed": true
   },
   "outputs": [],
   "source": []
  }
 ],
 "metadata": {
  "kernelspec": {
   "display_name": "Python 2",
   "language": "python",
   "name": "python2"
  },
  "language_info": {
   "codemirror_mode": {
    "name": "ipython",
    "version": 2
   },
   "file_extension": ".py",
   "mimetype": "text/x-python",
   "name": "python",
   "nbconvert_exporter": "python",
   "pygments_lexer": "ipython2",
   "version": "2.7.6"
  }
 },
 "nbformat": 4,
 "nbformat_minor": 2
}
