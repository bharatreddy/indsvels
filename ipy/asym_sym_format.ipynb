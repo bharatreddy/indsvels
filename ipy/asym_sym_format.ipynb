{
 "cells": [
  {
   "cell_type": "code",
   "execution_count": 1,
   "metadata": {
    "collapsed": true
   },
   "outputs": [],
   "source": [
    "import pandas\n",
    "import datetime\n",
    "import os"
   ]
  },
  {
   "cell_type": "code",
   "execution_count": 30,
   "metadata": {},
   "outputs": [
    {
     "name": "stdout",
     "output_type": "stream",
     "text": [
      "currently working with--> ../data/asym_2013.txt\n",
      "currently working with--> ../data/asym_2014.txt\n",
      "currently working with--> ../data/asym_2012.txt\n",
      "currently working with--> ../data/asym_2011.txt\n"
     ]
    },
    {
     "data": {
      "text/html": [
       "<div>\n",
       "<table border=\"1\" class=\"dataframe\">\n",
       "  <thead>\n",
       "    <tr style=\"text-align: right;\">\n",
       "      <th>Asy_type</th>\n",
       "      <th>AsyD</th>\n",
       "      <th>AsyH</th>\n",
       "      <th>SymD</th>\n",
       "      <th>SymH</th>\n",
       "    </tr>\n",
       "    <tr>\n",
       "      <th>datetimeStr</th>\n",
       "      <th></th>\n",
       "      <th></th>\n",
       "      <th></th>\n",
       "      <th></th>\n",
       "    </tr>\n",
       "  </thead>\n",
       "  <tbody>\n",
       "    <tr>\n",
       "      <th>20110101-00-00</th>\n",
       "      <td>17.0</td>\n",
       "      <td>13.0</td>\n",
       "      <td>1.0</td>\n",
       "      <td>-10.0</td>\n",
       "    </tr>\n",
       "    <tr>\n",
       "      <th>20110101-00-01</th>\n",
       "      <td>17.0</td>\n",
       "      <td>13.0</td>\n",
       "      <td>1.0</td>\n",
       "      <td>-10.0</td>\n",
       "    </tr>\n",
       "    <tr>\n",
       "      <th>20110101-00-02</th>\n",
       "      <td>17.0</td>\n",
       "      <td>13.0</td>\n",
       "      <td>1.0</td>\n",
       "      <td>-10.0</td>\n",
       "    </tr>\n",
       "    <tr>\n",
       "      <th>20110101-00-03</th>\n",
       "      <td>17.0</td>\n",
       "      <td>13.0</td>\n",
       "      <td>1.0</td>\n",
       "      <td>-10.0</td>\n",
       "    </tr>\n",
       "    <tr>\n",
       "      <th>20110101-00-04</th>\n",
       "      <td>17.0</td>\n",
       "      <td>13.0</td>\n",
       "      <td>1.0</td>\n",
       "      <td>-10.0</td>\n",
       "    </tr>\n",
       "  </tbody>\n",
       "</table>\n",
       "</div>"
      ],
      "text/plain": [
       "Asy_type        AsyD  AsyH  SymD  SymH\n",
       "datetimeStr                           \n",
       "20110101-00-00  17.0  13.0   1.0 -10.0\n",
       "20110101-00-01  17.0  13.0   1.0 -10.0\n",
       "20110101-00-02  17.0  13.0   1.0 -10.0\n",
       "20110101-00-03  17.0  13.0   1.0 -10.0\n",
       "20110101-00-04  17.0  13.0   1.0 -10.0"
      ]
     },
     "execution_count": 30,
     "metadata": {},
     "output_type": "execute_result"
    }
   ],
   "source": [
    "baseDir = \"../data/\"\n",
    "# Setup some col names\n",
    "colList = []\n",
    "for colNum in range(63):\n",
    "    if colNum == 0: \n",
    "        colList.append( \"data1\" )\n",
    "    elif colNum == 1: \n",
    "        colList.append( \"AsyDateStr\" )\n",
    "    elif colNum == 62:\n",
    "        colList.append( \"hourly_average\" )\n",
    "    else:\n",
    "        currMinute = str(colNum-2)\n",
    "        if colNum-2 < 10:\n",
    "            currMinute = \"0\" + str(colNum-2)\n",
    "        colList.append( currMinute )\n",
    "\n",
    "        \n",
    "def split_asytype_datetime(row):\n",
    "        currNoisyDtStr = row[\"AsyDateStr\"].split(\"N6E01\")[1]\n",
    "        if \"H\" in row[\"AsyDateStr\"]:\n",
    "            currDateHourStr = \"20\" + currNoisyDtStr.split(\"H\")[0] +\\\n",
    "                \"-\" +  currNoisyDtStr.split(\"H\")[1][:2]\n",
    "        else:\n",
    "            currDateHourStr = \"20\" + currNoisyDtStr.split(\"D\")[0] +\\\n",
    "                \"-\" +  currNoisyDtStr.split(\"D\")[1][:2]\n",
    "        return currDateHourStr   \n",
    "    \n",
    "def get_asy_type(row):\n",
    "        if \"ASY\" in row[\"AsyDateStr\"]:\n",
    "            if \"H\" in row[\"AsyDateStr\"]:\n",
    "                return \"AsyH\"\n",
    "            else:\n",
    "                return \"AsyD\"\n",
    "        else:\n",
    "            if \"H\" in row[\"AsyDateStr\"]:\n",
    "                return \"SymH\"\n",
    "            else:\n",
    "                return \"SymD\"\n",
    "\n",
    "rawAsyDFList = []        \n",
    "# Loop through the directory and get all files\n",
    "for root, dirs, files in os.walk(baseDir):\n",
    "    for fName in files:\n",
    "        if \"asym\" not in fName:\n",
    "            continue\n",
    "        print \"currently working with-->\", root + fName\n",
    "        currAsyDF = pandas.read_csv( root + fName, delim_whitespace=True,\\\n",
    "                                    header=None, names=colList )\n",
    "        currAsyDF[\"dateStr\"] = currAsyDF.apply( split_asytype_datetime, axis=1 )\n",
    "        currAsyDF[\"Asy_type\"] = currAsyDF.apply( get_asy_type, axis=1 )\n",
    "        rawAsyDFList.append( currAsyDF )\n",
    "rawAsyDF = pandas.concat( rawAsyDFList )\n",
    "# Convert the dataframe to\n",
    "selColList = [\"dateStr\", \"Asy_type\"] + [ \"0\" + str(x) if x < 10 else str(x) for x in range(60) ]\n",
    "rawAsyDF = rawAsyDF[selColList]\n",
    "AsyDF = pandas.melt(rawAsyDF, id_vars=[\"dateStr\", \"Asy_type\"], \n",
    "                  var_name=\"minute\", value_name=\"Value\")\n",
    "AsyDF[\"datetimeStr\"] = AsyDF[\"dateStr\"] + \"-\" + AsyDF[\"minute\"]\n",
    "# AsyDF[\"date\"] = pandas.to_datetime(AsyDF[\"datetimeStr\"], format='%Y%m%d-%H-%M')\n",
    "# AsyDF[\"hour\"] = AsyDF[\"date\"].apply(lambda x: x.strftime('%H'))\n",
    "# AsyDF[\"minute\"] = AsyDF[\"date\"].apply(lambda x: x.strftime('%M'))\n",
    "# AsyDF = AsyDF[ [ \"date\", \"datetimeStr\",\"Asy_type\", \"minute\", \"hour\", \"Value\" ] ]\n",
    "AsyDF = AsyDF[ [ \"datetimeStr\",\"Asy_type\", \"Value\" ] ]\n",
    "AsyDF = AsyDF.drop_duplicates()\n",
    "AsyDF = AsyDF.pivot(index='datetimeStr',\\\n",
    "                columns='Asy_type', values='Value')\n",
    "AsyDF.to_csv(\"../data/Asy_processed.txt\", sep=' ')\n",
    "AsyDF.head()"
   ]
  },
  {
   "cell_type": "code",
   "execution_count": null,
   "metadata": {
    "collapsed": true
   },
   "outputs": [],
   "source": []
  }
 ],
 "metadata": {
  "kernelspec": {
   "display_name": "Python 2",
   "language": "python",
   "name": "python2"
  },
  "language_info": {
   "codemirror_mode": {
    "name": "ipython",
    "version": 2
   },
   "file_extension": ".py",
   "mimetype": "text/x-python",
   "name": "python",
   "nbconvert_exporter": "python",
   "pygments_lexer": "ipython2",
   "version": "2.7.6"
  }
 },
 "nbformat": 4,
 "nbformat_minor": 2
}
