{
 "cells": [
  {
   "cell_type": "code",
   "execution_count": 1,
   "metadata": {
    "collapsed": true
   },
   "outputs": [],
   "source": [
    "import pandas\n",
    "import feather\n",
    "import datetime\n",
    "import numpy\n",
    "from scipy.optimize import curve_fit\n",
    "import seaborn as sns\n",
    "import matplotlib.pyplot as plt\n",
    "from matplotlib.colors import ListedColormap\n",
    "from matplotlib.colors import Normalize\n",
    "from matplotlib import ticker\n",
    "from davitpy.models import *\n",
    "from davitpy import utils\n",
    "from aacgmv2 import convert_mlt\n",
    "%matplotlib inline"
   ]
  },
  {
   "cell_type": "code",
   "execution_count": 2,
   "metadata": {
    "collapsed": true
   },
   "outputs": [],
   "source": [
    "sizeAsyCutoff = 50."
   ]
  },
  {
   "cell_type": "code",
   "execution_count": 3,
   "metadata": {},
   "outputs": [
    {
     "data": {
      "text/html": [
       "<div>\n",
       "<table border=\"1\" class=\"dataframe\">\n",
       "  <thead>\n",
       "    <tr style=\"text-align: right;\">\n",
       "      <th></th>\n",
       "      <th>normMLT</th>\n",
       "      <th>normLAT</th>\n",
       "      <th>probSAPS</th>\n",
       "      <th>MLT</th>\n",
       "      <th>Lat</th>\n",
       "      <th>dst_index</th>\n",
       "    </tr>\n",
       "  </thead>\n",
       "  <tbody>\n",
       "    <tr>\n",
       "      <th>0</th>\n",
       "      <td>-6</td>\n",
       "      <td>-7</td>\n",
       "      <td>0.089514</td>\n",
       "      <td>18</td>\n",
       "      <td>50.0</td>\n",
       "      <td>-120.0</td>\n",
       "    </tr>\n",
       "    <tr>\n",
       "      <th>1</th>\n",
       "      <td>-5</td>\n",
       "      <td>-7</td>\n",
       "      <td>0.162988</td>\n",
       "      <td>19</td>\n",
       "      <td>50.0</td>\n",
       "      <td>-120.0</td>\n",
       "    </tr>\n",
       "    <tr>\n",
       "      <th>2</th>\n",
       "      <td>-4</td>\n",
       "      <td>-7</td>\n",
       "      <td>0.223678</td>\n",
       "      <td>20</td>\n",
       "      <td>50.0</td>\n",
       "      <td>-120.0</td>\n",
       "    </tr>\n",
       "    <tr>\n",
       "      <th>3</th>\n",
       "      <td>-3</td>\n",
       "      <td>-7</td>\n",
       "      <td>0.231361</td>\n",
       "      <td>21</td>\n",
       "      <td>50.0</td>\n",
       "      <td>-120.0</td>\n",
       "    </tr>\n",
       "    <tr>\n",
       "      <th>4</th>\n",
       "      <td>-2</td>\n",
       "      <td>-7</td>\n",
       "      <td>0.180367</td>\n",
       "      <td>22</td>\n",
       "      <td>50.0</td>\n",
       "      <td>-120.0</td>\n",
       "    </tr>\n",
       "  </tbody>\n",
       "</table>\n",
       "</div>"
      ],
      "text/plain": [
       "   normMLT  normLAT  probSAPS  MLT   Lat  dst_index\n",
       "0       -6       -7  0.089514   18  50.0     -120.0\n",
       "1       -5       -7  0.162988   19  50.0     -120.0\n",
       "2       -4       -7  0.223678   20  50.0     -120.0\n",
       "3       -3       -7  0.231361   21  50.0     -120.0\n",
       "4       -2       -7  0.180367   22  50.0     -120.0"
      ]
     },
     "execution_count": 3,
     "metadata": {},
     "output_type": "execute_result"
    }
   ],
   "source": [
    "# We need to combine the potential model with\n",
    "# the SAPS location model to limit the data\n",
    "# to locations where we see SAPS\n",
    "def saps_pred_func(x, y, dstInp):\n",
    "#     (a_sx, b_sx, a_sy, b_sy, a_xo, b_xo, a_yo, b_yo, a_o, b_o, theta) = \\\n",
    "#         ( 2.93, 2.67e-3, 2.21, 3e-3, 3.86, 6.03e-2, -0.51, 5.57e-2, 0.985, 0.93e-3, 0.633 )\n",
    "    a_sx = 3.11\n",
    "    b_sx = 0.00371\n",
    "    a_sy = 1.72\n",
    "    b_sy = 0.000819\n",
    "    a_xo = 4.59\n",
    "    b_xo = 0.0633\n",
    "    a_yo = -1.19\n",
    "    b_yo = 0.0321\n",
    "    a_o = 0.893\n",
    "    b_o = -0.00147\n",
    "    theta = 0.692\n",
    "    # parameters from fitting\n",
    "#     (a_sx, b_sx, a_sy, b_sy, a_xo, b_xo, a_yo, b_yo, a_o, b_o, theta) = \\\n",
    "#         ( 2.58, -0.007, 1.03, -0.023, 3.99,  \\\n",
    "#            0.041, -1.63, 0.02, 1.11, 0.006, 0.68 )\n",
    "    sigma_x = a_sx + b_sx * dstInp\n",
    "    sigma_y = a_sy + b_sy * dstInp\n",
    "    xo = a_xo + b_xo * dstInp\n",
    "    yo = a_yo + b_yo * dstInp\n",
    "    amplitude = a_o + b_o * dstInp    \n",
    "    \n",
    "    a = (numpy.cos(theta)**2)/(2*sigma_x**2) + (numpy.sin(theta)**2)/(2*sigma_y**2)\n",
    "    b = -(numpy.sin(2*theta))/(4*sigma_x**2) + (numpy.sin(2*theta))/(4*sigma_y**2)\n",
    "    c = (numpy.sin(theta)**2)/(2*sigma_x**2) + (numpy.cos(theta)**2)/(2*sigma_y**2)\n",
    "    outProb = amplitude*numpy.exp( - (a*((x-xo)**2) + 2*b*(x-xo)*(y-yo) \n",
    "                            + c*((y-yo)**2)))\n",
    "    return outProb\n",
    "\n",
    "### build test dst indices and plot them\n",
    "sapsPredDF = pandas.DataFrame(columns=[\"normMLT\", \"normLAT\", \"probSAPS\", \"MLT\", \"Lat\", \"dst_index\"])\n",
    "latArr = []\n",
    "mltArr = []\n",
    "normLatArr = []\n",
    "normMltArr = []\n",
    "probSapsArr = []\n",
    "dstArr = []\n",
    "dstIndSel = [ -120., -100., -75., -50, -25., -5. ,0. ]\n",
    "for z in dstIndSel:\n",
    "    for x in range( -7, 8 ):\n",
    "        for y in range( -12, 10 ):        \n",
    "            normLatArr.append( x )\n",
    "            normMltArr.append( y )\n",
    "            dstArr.append( z )\n",
    "            if y > 0:\n",
    "                mltArr.append( y )\n",
    "            else:\n",
    "                mltArr.append( y + 24 )\n",
    "            latArr.append( x + 57. )\n",
    "            probSapsArr.append( saps_pred_func(x,y,z) )\n",
    "        \n",
    "sapsPredDF[\"MLT\"] = mltArr\n",
    "sapsPredDF[\"Lat\"] = latArr\n",
    "sapsPredDF[\"normMLT\"] = normMltArr\n",
    "sapsPredDF[\"normLAT\"] = normLatArr\n",
    "sapsPredDF[\"probSAPS\"] = probSapsArr\n",
    "sapsPredDF[\"dst_index\"] = dstArr\n",
    "# Limit SAPS location to where prob > 0.2\n",
    "sapsPredDF = sapsPredDF[ sapsPredDF[\"probSAPS\"] >= 0.05\\\n",
    "                       ].reset_index(drop=True)\n",
    "sapsPredDF.head()"
   ]
  },
  {
   "cell_type": "code",
   "execution_count": 4,
   "metadata": {},
   "outputs": [
    {
     "data": {
      "text/html": [
       "<div>\n",
       "<table border=\"1\" class=\"dataframe\">\n",
       "  <thead>\n",
       "    <tr style=\"text-align: right;\">\n",
       "      <th></th>\n",
       "      <th>AsyH</th>\n",
       "      <th>MLAT</th>\n",
       "      <th>normMLT</th>\n",
       "      <th>potential</th>\n",
       "      <th>normLAT</th>\n",
       "      <th>potMagn</th>\n",
       "      <th>mlt</th>\n",
       "    </tr>\n",
       "  </thead>\n",
       "  <tbody>\n",
       "    <tr>\n",
       "      <th>0</th>\n",
       "      <td>45.0</td>\n",
       "      <td>56.5</td>\n",
       "      <td>-7.0</td>\n",
       "      <td>-2.21</td>\n",
       "      <td>-2.0</td>\n",
       "      <td>2.21</td>\n",
       "      <td>17.0</td>\n",
       "    </tr>\n",
       "    <tr>\n",
       "      <th>1</th>\n",
       "      <td>45.0</td>\n",
       "      <td>57.0</td>\n",
       "      <td>-7.0</td>\n",
       "      <td>-3.82</td>\n",
       "      <td>-1.5</td>\n",
       "      <td>3.82</td>\n",
       "      <td>17.0</td>\n",
       "    </tr>\n",
       "    <tr>\n",
       "      <th>2</th>\n",
       "      <td>45.0</td>\n",
       "      <td>57.5</td>\n",
       "      <td>-7.0</td>\n",
       "      <td>-5.75</td>\n",
       "      <td>-1.0</td>\n",
       "      <td>5.75</td>\n",
       "      <td>17.0</td>\n",
       "    </tr>\n",
       "    <tr>\n",
       "      <th>3</th>\n",
       "      <td>45.0</td>\n",
       "      <td>58.5</td>\n",
       "      <td>-7.0</td>\n",
       "      <td>-7.77</td>\n",
       "      <td>0.0</td>\n",
       "      <td>7.77</td>\n",
       "      <td>17.0</td>\n",
       "    </tr>\n",
       "    <tr>\n",
       "      <th>4</th>\n",
       "      <td>45.0</td>\n",
       "      <td>59.0</td>\n",
       "      <td>-7.0</td>\n",
       "      <td>-10.10</td>\n",
       "      <td>0.5</td>\n",
       "      <td>10.10</td>\n",
       "      <td>17.0</td>\n",
       "    </tr>\n",
       "  </tbody>\n",
       "</table>\n",
       "</div>"
      ],
      "text/plain": [
       "   AsyH  MLAT  normMLT  potential  normLAT  potMagn   mlt\n",
       "0  45.0  56.5     -7.0      -2.21     -2.0     2.21  17.0\n",
       "1  45.0  57.0     -7.0      -3.82     -1.5     3.82  17.0\n",
       "2  45.0  57.5     -7.0      -5.75     -1.0     5.75  17.0\n",
       "3  45.0  58.5     -7.0      -7.77      0.0     7.77  17.0\n",
       "4  45.0  59.0     -7.0     -10.10      0.5    10.10  17.0"
      ]
     },
     "execution_count": 4,
     "metadata": {},
     "output_type": "execute_result"
    }
   ],
   "source": [
    "potDF = feather.read_dataframe('../data/potDF.feather')\n",
    "potDF.head()"
   ]
  },
  {
   "cell_type": "code",
   "execution_count": 5,
   "metadata": {},
   "outputs": [],
   "source": [
    "# Get number of values for different Asy Inds\n",
    "# discard those values which have low counts\n",
    "sizeAsyDF = potDF.groupby(\"AsyH\").size().reset_index()\n",
    "sizeAsyDF.columns = [ \"AsyH\", \"asyCnt\" ]\n",
    "sizeAsyDF = sizeAsyDF[ sizeAsyDF[\"asyCnt\"] >= sizeAsyCutoff]\n",
    "potDF = pandas.merge(potDF, sizeAsyDF,\\\n",
    "                     on = \"AsyH\", how=\"inner\"\\\n",
    "                    ).reset_index(drop=True)\n",
    "# Get peak potentials\n",
    "peakPotDF = potDF[[ \"AsyH\", \"potMagn\" ]].groupby( \"AsyH\" ).max().reset_index()\n",
    "peakPotDF.columns = [ \"AsyH\", \"peakPotMagn\" ]"
   ]
  },
  {
   "cell_type": "code",
   "execution_count": 27,
   "metadata": {},
   "outputs": [
    {
     "name": "stdout",
     "output_type": "stream",
     "text": [
      "Vpeak =  -6.47 + 9.48 x log(AsyH-index)\n"
     ]
    }
   ],
   "source": [
    "# We'll model peak potential as a log function of AsyH index.\n",
    "def peak_pot_fit_func( (asy), a_asy, b_asy):\n",
    "    peakPotVal = a_asy + b_asy*numpy.log(asy)    \n",
    "    return peakPotVal\n",
    "\n",
    "poptPeakPot, pcovPeakPot = curve_fit(peak_pot_fit_func,\\\n",
    "                               (peakPotDF['AsyH'].T),\\\n",
    "                               peakPotDF['peakPotMagn'], p0=(1, 0.1))\n",
    "\n",
    "print \"Vpeak = \", str( round(poptPeakPot[0],2) ), \"+\", str( round(poptPeakPot[1],2) ), \"x log(AsyH-index)\"\n",
    "\n",
    "# get pred peak potentials\n",
    "peakPotDF[\"predPeakPot\"] = [ peak_pot_fit_func(x, *poptPeakPot) for x in peakPotDF[\"AsyH\"] ]"
   ]
  },
  {
   "cell_type": "code",
   "execution_count": 31,
   "metadata": {},
   "outputs": [
    {
     "data": {
      "image/png": "[encoded data removed]",
      "text/plain": [
       "<matplotlib.figure.Figure at 0x7f9496a13390>"
      ]
     },
     "metadata": {},
     "output_type": "display_data"
    }
   ],
   "source": [
    "f = plt.figure(figsize=(12, 8))\n",
    "ax = f.add_subplot(1,1,1)\n",
    "\n",
    "\n",
    "peakPotDF.plot( x=\"AsyH\", y=\"peakPotMagn\", kind=\"scatter\", ax=ax, label=\"actual peak potentials\" )\n",
    "peakPotDF.plot( x=\"AsyH\", y=\"predPeakPot\", c=\"r\", ax=ax, label=\"fitted peak potentials\" )\n",
    "\n",
    "printText = \"$\\Phi_{peak}$ = \" +\\\n",
    "            str( round(poptPeakPot[0],2) ) +\\\n",
    "            \" + \" + str( round(poptPeakPot[1],2) ) +\\\n",
    "            \" log(AsyH-index)\"\n",
    "\n",
    "ax.text(0.01, 0.8,  printText,\n",
    "            transform=ax.transAxes,\n",
    "            color='green', fontsize=16)\n",
    "\n",
    "ax.set_xlabel(\"Asy-H Index\", fontsize=16)\n",
    "ax.set_ylabel(\"Peak Potential [kV]\", fontsize=16)\n",
    "ax.tick_params(labelsize=16)\n",
    "ax.legend(fontsize=16)\n",
    "\n",
    "f.savefig( \"../figs/potMagFit.pdf\" )"
   ]
  },
  {
   "cell_type": "code",
   "execution_count": null,
   "metadata": {
    "collapsed": true
   },
   "outputs": [],
   "source": []
  }
 ],
 "metadata": {
  "kernelspec": {
   "display_name": "Python 2",
   "language": "python",
   "name": "python2"
  },
  "language_info": {
   "codemirror_mode": {
    "name": "ipython",
    "version": 2
   },
   "file_extension": ".py",
   "mimetype": "text/x-python",
   "name": "python",
   "nbconvert_exporter": "python",
   "pygments_lexer": "ipython2",
   "version": "2.7.6"
  }
 },
 "nbformat": 4,
 "nbformat_minor": 2
}
