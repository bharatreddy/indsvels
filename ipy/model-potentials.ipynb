{
 "cells": [
  {
   "cell_type": "code",
   "execution_count": 1,
   "metadata": {},
   "outputs": [],
   "source": [
    "import pandas\n",
    "import feather\n",
    "import datetime\n",
    "import numpy\n",
    "from scipy.optimize import curve_fit\n",
    "import seaborn as sns\n",
    "import matplotlib.pyplot as plt\n",
    "from matplotlib.colors import ListedColormap\n",
    "from matplotlib.colors import Normalize\n",
    "from matplotlib import ticker\n",
    "from davitpy.models import *\n",
    "from davitpy import utils\n",
    "from aacgmv2 import convert_mlt\n",
    "%matplotlib inline"
   ]
  },
  {
   "cell_type": "code",
   "execution_count": 2,
   "metadata": {
    "collapsed": true
   },
   "outputs": [],
   "source": [
    "sizeAsyCutoff = 50."
   ]
  },
  {
   "cell_type": "code",
   "execution_count": 3,
   "metadata": {},
   "outputs": [
    {
     "data": {
      "text/html": [
       "<div>\n",
       "<table border=\"1\" class=\"dataframe\">\n",
       "  <thead>\n",
       "    <tr style=\"text-align: right;\">\n",
       "      <th></th>\n",
       "      <th>normMLT</th>\n",
       "      <th>normLAT</th>\n",
       "      <th>probSAPS</th>\n",
       "      <th>MLT</th>\n",
       "      <th>Lat</th>\n",
       "      <th>dst_index</th>\n",
       "    </tr>\n",
       "  </thead>\n",
       "  <tbody>\n",
       "    <tr>\n",
       "      <th>0</th>\n",
       "      <td>-6</td>\n",
       "      <td>-7</td>\n",
       "      <td>0.089514</td>\n",
       "      <td>18</td>\n",
       "      <td>50.0</td>\n",
       "      <td>-120.0</td>\n",
       "    </tr>\n",
       "    <tr>\n",
       "      <th>1</th>\n",
       "      <td>-5</td>\n",
       "      <td>-7</td>\n",
       "      <td>0.162988</td>\n",
       "      <td>19</td>\n",
       "      <td>50.0</td>\n",
       "      <td>-120.0</td>\n",
       "    </tr>\n",
       "    <tr>\n",
       "      <th>2</th>\n",
       "      <td>-4</td>\n",
       "      <td>-7</td>\n",
       "      <td>0.223678</td>\n",
       "      <td>20</td>\n",
       "      <td>50.0</td>\n",
       "      <td>-120.0</td>\n",
       "    </tr>\n",
       "    <tr>\n",
       "      <th>3</th>\n",
       "      <td>-3</td>\n",
       "      <td>-7</td>\n",
       "      <td>0.231361</td>\n",
       "      <td>21</td>\n",
       "      <td>50.0</td>\n",
       "      <td>-120.0</td>\n",
       "    </tr>\n",
       "    <tr>\n",
       "      <th>4</th>\n",
       "      <td>-2</td>\n",
       "      <td>-7</td>\n",
       "      <td>0.180367</td>\n",
       "      <td>22</td>\n",
       "      <td>50.0</td>\n",
       "      <td>-120.0</td>\n",
       "    </tr>\n",
       "  </tbody>\n",
       "</table>\n",
       "</div>"
      ],
      "text/plain": [
       "   normMLT  normLAT  probSAPS  MLT   Lat  dst_index\n",
       "0       -6       -7  0.089514   18  50.0     -120.0\n",
       "1       -5       -7  0.162988   19  50.0     -120.0\n",
       "2       -4       -7  0.223678   20  50.0     -120.0\n",
       "3       -3       -7  0.231361   21  50.0     -120.0\n",
       "4       -2       -7  0.180367   22  50.0     -120.0"
      ]
     },
     "execution_count": 3,
     "metadata": {},
     "output_type": "execute_result"
    }
   ],
   "source": [
    "# We need to combine the potential model with\n",
    "# the SAPS location model to limit the data\n",
    "# to locations where we see SAPS\n",
    "def saps_pred_func(x, y, dstInp):\n",
    "#     (a_sx, b_sx, a_sy, b_sy, a_xo, b_xo, a_yo, b_yo, a_o, b_o, theta) = \\\n",
    "#         ( 2.93, 2.67e-3, 2.21, 3e-3, 3.86, 6.03e-2, -0.51, 5.57e-2, 0.985, 0.93e-3, 0.633 )\n",
    "    a_sx = 3.11\n",
    "    b_sx = 0.00371\n",
    "    a_sy = 1.72\n",
    "    b_sy = 0.000819\n",
    "    a_xo = 4.59\n",
    "    b_xo = 0.0633\n",
    "    a_yo = -1.19\n",
    "    b_yo = 0.0321\n",
    "    a_o = 0.893\n",
    "    b_o = -0.00147\n",
    "    theta = 0.692\n",
    "    # parameters from fitting\n",
    "#     (a_sx, b_sx, a_sy, b_sy, a_xo, b_xo, a_yo, b_yo, a_o, b_o, theta) = \\\n",
    "#         ( 2.58, -0.007, 1.03, -0.023, 3.99,  \\\n",
    "#            0.041, -1.63, 0.02, 1.11, 0.006, 0.68 )\n",
    "    sigma_x = a_sx + b_sx * dstInp\n",
    "    sigma_y = a_sy + b_sy * dstInp\n",
    "    xo = a_xo + b_xo * dstInp\n",
    "    yo = a_yo + b_yo * dstInp\n",
    "    amplitude = a_o + b_o * dstInp    \n",
    "    \n",
    "    a = (numpy.cos(theta)**2)/(2*sigma_x**2) + (numpy.sin(theta)**2)/(2*sigma_y**2)\n",
    "    b = -(numpy.sin(2*theta))/(4*sigma_x**2) + (numpy.sin(2*theta))/(4*sigma_y**2)\n",
    "    c = (numpy.sin(theta)**2)/(2*sigma_x**2) + (numpy.cos(theta)**2)/(2*sigma_y**2)\n",
    "    outProb = amplitude*numpy.exp( - (a*((x-xo)**2) + 2*b*(x-xo)*(y-yo) \n",
    "                            + c*((y-yo)**2)))\n",
    "    return outProb\n",
    "\n",
    "### build test dst indices and plot them\n",
    "sapsPredDF = pandas.DataFrame(columns=[\"normMLT\", \"normLAT\", \"probSAPS\", \"MLT\", \"Lat\", \"dst_index\"])\n",
    "latArr = []\n",
    "mltArr = []\n",
    "normLatArr = []\n",
    "normMltArr = []\n",
    "probSapsArr = []\n",
    "dstArr = []\n",
    "dstIndSel = [ -120., -100., -75., -50, -25., -5. ,0. ]\n",
    "for z in dstIndSel:\n",
    "    for x in range( -7, 8 ):\n",
    "        for y in range( -12, 10 ):        \n",
    "            normLatArr.append( x )\n",
    "            normMltArr.append( y )\n",
    "            dstArr.append( z )\n",
    "            if y > 0:\n",
    "                mltArr.append( y )\n",
    "            else:\n",
    "                mltArr.append( y + 24 )\n",
    "            latArr.append( x + 57. )\n",
    "            probSapsArr.append( saps_pred_func(x,y,z) )\n",
    "        \n",
    "sapsPredDF[\"MLT\"] = mltArr\n",
    "sapsPredDF[\"Lat\"] = latArr\n",
    "sapsPredDF[\"normMLT\"] = normMltArr\n",
    "sapsPredDF[\"normLAT\"] = normLatArr\n",
    "sapsPredDF[\"probSAPS\"] = probSapsArr\n",
    "sapsPredDF[\"dst_index\"] = dstArr\n",
    "# Limit SAPS location to where prob > 0.2\n",
    "sapsPredDF = sapsPredDF[ sapsPredDF[\"probSAPS\"] >= 0.05\\\n",
    "                       ].reset_index(drop=True)\n",
    "sapsPredDF.head()"
   ]
  },
  {
   "cell_type": "code",
   "execution_count": 4,
   "metadata": {},
   "outputs": [
    {
     "data": {
      "text/html": [
       "<div>\n",
       "<table border=\"1\" class=\"dataframe\">\n",
       "  <thead>\n",
       "    <tr style=\"text-align: right;\">\n",
       "      <th></th>\n",
       "      <th>AsyH</th>\n",
       "      <th>MLAT</th>\n",
       "      <th>normMLT</th>\n",
       "      <th>potential</th>\n",
       "      <th>normLAT</th>\n",
       "      <th>potMagn</th>\n",
       "      <th>mlt</th>\n",
       "    </tr>\n",
       "  </thead>\n",
       "  <tbody>\n",
       "    <tr>\n",
       "      <th>0</th>\n",
       "      <td>45.0</td>\n",
       "      <td>56.5</td>\n",
       "      <td>-7.0</td>\n",
       "      <td>-2.21</td>\n",
       "      <td>-2.0</td>\n",
       "      <td>2.21</td>\n",
       "      <td>17.0</td>\n",
       "    </tr>\n",
       "    <tr>\n",
       "      <th>1</th>\n",
       "      <td>45.0</td>\n",
       "      <td>57.0</td>\n",
       "      <td>-7.0</td>\n",
       "      <td>-3.82</td>\n",
       "      <td>-1.5</td>\n",
       "      <td>3.82</td>\n",
       "      <td>17.0</td>\n",
       "    </tr>\n",
       "    <tr>\n",
       "      <th>2</th>\n",
       "      <td>45.0</td>\n",
       "      <td>57.5</td>\n",
       "      <td>-7.0</td>\n",
       "      <td>-5.75</td>\n",
       "      <td>-1.0</td>\n",
       "      <td>5.75</td>\n",
       "      <td>17.0</td>\n",
       "    </tr>\n",
       "    <tr>\n",
       "      <th>3</th>\n",
       "      <td>45.0</td>\n",
       "      <td>58.5</td>\n",
       "      <td>-7.0</td>\n",
       "      <td>-7.77</td>\n",
       "      <td>0.0</td>\n",
       "      <td>7.77</td>\n",
       "      <td>17.0</td>\n",
       "    </tr>\n",
       "    <tr>\n",
       "      <th>4</th>\n",
       "      <td>45.0</td>\n",
       "      <td>59.0</td>\n",
       "      <td>-7.0</td>\n",
       "      <td>-10.10</td>\n",
       "      <td>0.5</td>\n",
       "      <td>10.10</td>\n",
       "      <td>17.0</td>\n",
       "    </tr>\n",
       "  </tbody>\n",
       "</table>\n",
       "</div>"
      ],
      "text/plain": [
       "   AsyH  MLAT  normMLT  potential  normLAT  potMagn   mlt\n",
       "0  45.0  56.5     -7.0      -2.21     -2.0     2.21  17.0\n",
       "1  45.0  57.0     -7.0      -3.82     -1.5     3.82  17.0\n",
       "2  45.0  57.5     -7.0      -5.75     -1.0     5.75  17.0\n",
       "3  45.0  58.5     -7.0      -7.77      0.0     7.77  17.0\n",
       "4  45.0  59.0     -7.0     -10.10      0.5    10.10  17.0"
      ]
     },
     "execution_count": 4,
     "metadata": {},
     "output_type": "execute_result"
    }
   ],
   "source": [
    "potDF = feather.read_dataframe('../data/potDF.feather')\n",
    "potDF.head()"
   ]
  },
  {
   "cell_type": "code",
   "execution_count": 5,
   "metadata": {
    "collapsed": true
   },
   "outputs": [],
   "source": [
    "# Get number of values for different Asy Inds\n",
    "# discard those values which have low counts\n",
    "sizeAsyDF = potDF.groupby(\"AsyH\").size().reset_index()\n",
    "sizeAsyDF.columns = [ \"AsyH\", \"asyCnt\" ]\n",
    "sizeAsyDF = sizeAsyDF[ sizeAsyDF[\"asyCnt\"] >= sizeAsyCutoff]\n",
    "potDF = pandas.merge(potDF, sizeAsyDF,\\\n",
    "                     on = \"AsyH\", how=\"inner\"\\\n",
    "                    ).reset_index(drop=True)\n",
    "# Get peak potentials\n",
    "peakPotDF = potDF[[ \"AsyH\", \"potMagn\" ]].groupby( \"AsyH\" ).max().reset_index()\n",
    "peakPotDF.columns = [ \"AsyH\", \"peakPotMagn\" ]"
   ]
  },
  {
   "cell_type": "code",
   "execution_count": 6,
   "metadata": {},
   "outputs": [
    {
     "name": "stdout",
     "output_type": "stream",
     "text": [
      "Vpeak =  -6.47 + 9.48 x log(AsyH-index)\n"
     ]
    }
   ],
   "source": [
    "# We'll model peak potential as a log function of AsyH index.\n",
    "def peak_pot_fit_func( (asy), a_asy, b_asy):\n",
    "    peakPotVal = a_asy + b_asy*numpy.log(asy)    \n",
    "    return peakPotVal\n",
    "\n",
    "poptPeakPot, pcovPeakPot = curve_fit(peak_pot_fit_func,\\\n",
    "                               (peakPotDF['AsyH'].T),\\\n",
    "                               peakPotDF['peakPotMagn'], p0=(1, 0.1))\n",
    "\n",
    "print \"Vpeak = \", str( round(poptPeakPot[0],2) ), \"+\", str( round(poptPeakPot[1],2) ), \"x log(AsyH-index)\"\n",
    "\n",
    "# get pred peak potentials\n",
    "peakPotDF[\"predPeakPot\"] = [ peak_pot_fit_func(x, *poptPeakPot) for x in peakPotDF[\"AsyH\"] ]\n",
    "\n",
    "# Normalize the values of potential\n",
    "# for every AsyH value. This makes \n",
    "# fitting easy!\n",
    "potDF = pandas.merge( potDF, peakPotDF, on=\"AsyH\" )\n",
    "potDF[\"normPot\"] = potDF[\"potMagn\"]/potDF[\"peakPotMagn\"]"
   ]
  },
  {
   "cell_type": "code",
   "execution_count": 7,
   "metadata": {},
   "outputs": [
    {
     "data": {
      "image/png": "[encoded data removed]",
      "text/plain": [
       "<matplotlib.figure.Figure at 0x7f24196aee90>"
      ]
     },
     "metadata": {},
     "output_type": "display_data"
    }
   ],
   "source": [
    "f = plt.figure(figsize=(12, 8))\n",
    "ax = f.add_subplot(1,1,1)\n",
    "\n",
    "sns.set_style(\"whitegrid\")\n",
    "sns.set_context(\"paper\")\n",
    "\n",
    "peakPotDF.plot( x=\"AsyH\", y=\"peakPotMagn\", kind=\"scatter\", ax=ax, label=\"actual peak potentials\" )\n",
    "peakPotDF.plot( x=\"AsyH\", y=\"predPeakPot\", c=\"r\", ax=ax, label=\"fitted peak potentials\" )\n",
    "\n",
    "printText = \"$\\Phi_{peak}$ = \" +\\\n",
    "            str( round(poptPeakPot[0],2) ) +\\\n",
    "            \" + \" + str( round(poptPeakPot[1],2) ) +\\\n",
    "            \" log(AsyH-index)\"\n",
    "\n",
    "ax.text(0.01, 0.8,  printText,\n",
    "            transform=ax.transAxes,\n",
    "            color='red', fontsize=16)\n",
    "\n",
    "ax.set_xlabel(\"Asy-H Index\", fontsize=16)\n",
    "ax.set_ylabel(\"Peak Potential [kV]\", fontsize=16)\n",
    "ax.tick_params(labelsize=16)\n",
    "ax.legend(fontsize=16, loc=2, scatterpoints=2)\n",
    "\n",
    "f.savefig( \"../figs/potMagFit.pdf\" )"
   ]
  },
  {
   "cell_type": "code",
   "execution_count": 8,
   "metadata": {},
   "outputs": [],
   "source": [
    "# divide data into bins\n",
    "asyHBins = [ 0, 30, 60, 90, 180 ]\n",
    "potDF = pandas.concat( [ potDF, \\\n",
    "                    pandas.cut( potDF[\"AsyH\"], \\\n",
    "                               bins=asyHBins ) ], axis=1 )\n",
    "potDF.columns = [ \"AsyH\", \"MLAT\", \"normMLT\", \"potential\",\\\n",
    "                 \"normLAT\", \"potMagn\", \"mlt\", \"asyCnt\",\\\n",
    "                 \"peakPotMagn\", \"predPeakPot\", \"normPot\", \"AsyH-bin\" ]"
   ]
  },
  {
   "cell_type": "code",
   "execution_count": 9,
   "metadata": {
    "collapsed": true
   },
   "outputs": [],
   "source": [
    "# To estimate the boundary we\n",
    "# fit second order harmonics!\n",
    "def mlt_fit_func((mlt, asy), c1_a, c1_b, s1_a, s1_b,\\\n",
    "                 c2_a, c2_b, s2_a, s2_b, phiC1_a,\\\n",
    "                 phiC1_b, phiS1_a, phiS1_b):\n",
    "    # Setup the base constants \n",
    "    # as functions of Asy index\n",
    "    c1 = c1_a + c1_b*asy\n",
    "    s1 = s1_a + s1_b*asy\n",
    "    c2 = c2_a + c2_b*asy\n",
    "    s2 = s2_a + s2_b*asy\n",
    "    phiC1 = phiC1_a + phiC1_b*asy\n",
    "    phiS1 = phiS1_a + phiS1_b*asy\n",
    "    # Now get to the actual function\n",
    "    phiC = (2*numpy.pi/24.) * mlt + phiC1\n",
    "    phiS = (2*numpy.pi/24.) * mlt + phiS1\n",
    "    cosTerm = c1 * numpy.cos(phiC)\n",
    "    sinTerm = s1 * numpy.sin(phiS)\n",
    "    cos2Term = c2 * numpy.cos(2*phiC)\n",
    "    sin2Term = s2 * numpy.sin(2*phiS)\n",
    "    return cosTerm + sinTerm + cos2Term + sin2Term"
   ]
  },
  {
   "cell_type": "code",
   "execution_count": 10,
   "metadata": {},
   "outputs": [
    {
     "name": "stdout",
     "output_type": "stream",
     "text": [
      "[  40.   80.  120.  160.    0.]\n",
      "[  1.21379532e+00   1.71351835e-02  -2.11544887e-01  -2.15589949e-02\n",
      "   7.87852185e-01  -8.23486162e-03  -7.85020792e-01   5.04246569e-03\n",
      "   6.52426260e+00   9.40740747e-01   7.27606791e+00   9.45339004e-01]\n"
     ]
    }
   ],
   "source": [
    "potDF[\"AsyHRnd\"] = numpy.round(potDF[\"AsyH\"]/40.)*40.\n",
    "print potDF[\"AsyHRnd\"].unique()\n",
    "mltPotDF = potDF[ [\"AsyHRnd\", \"normMLT\", \"normPot\", \"mlt\"]\\\n",
    "                ].groupby( [\"AsyHRnd\", \"normMLT\", \"mlt\"] \\\n",
    "                ).max().reset_index()\n",
    "mltPotDF = mltPotDF.dropna()\n",
    "\n",
    "\n",
    "poptNormPot, pcovNormPot = curve_fit(mlt_fit_func,\\\n",
    "                               (mltPotDF['mlt'].T, mltPotDF['AsyHRnd'].T),\\\n",
    "                               mltPotDF['normPot'], p0=(1., 1., 1., 1., 1., 1.,\\\n",
    "                                                          1., 1., 1., 1., 1., 1.))\n",
    "\n",
    "print poptNormPot\n",
    "\n",
    "predAsyArr = []\n",
    "predMltArr = []\n",
    "predNormMltArr = []\n",
    "predPotArr = []\n",
    "poptPotArr = []\n",
    "\n",
    "for currAsy in mltPotDF[\"AsyHRnd\"].unique():\n",
    "    for cpMlt in range(25):\n",
    "        predMltArr.append( cpMlt )\n",
    "        predAsyArr.append( currAsy )\n",
    "        # Fit params\n",
    "        predPotArr.append( mlt_fit_func(\\\n",
    "                                    (cpMlt, currAsy), *poptNormPot) )\n",
    "        poptPotArr.append( poptNormPot )\n",
    "        if cpMlt > 12.:\n",
    "            normMlt = cpMlt - 24.\n",
    "        else:\n",
    "            normMlt = cpMlt\n",
    "        predNormMltArr.append( normMlt )\n",
    "    \n",
    "predPotDF = pandas.DataFrame({\n",
    "                \"predPot\" : predPotArr,\n",
    "                \"predMLT\" : predMltArr,\n",
    "                \"predNormMLT\" : predNormMltArr,\n",
    "                \"predAsy\" : predAsyArr,\n",
    "                \"poptPot\" : poptPotArr\n",
    "                })"
   ]
  },
  {
   "cell_type": "code",
   "execution_count": 11,
   "metadata": {},
   "outputs": [
    {
     "data": {
      "image/png": "[encoded data removed]",
      "text/plain": [
       "<matplotlib.figure.Figure at 0x7f24180ecf10>"
      ]
     },
     "metadata": {},
     "output_type": "display_data"
    }
   ],
   "source": [
    "asyList = [ 0., 40., 80., 120., 160. ]\n",
    "f = plt.figure(figsize=(12, 8))\n",
    "ax = []\n",
    "ax.append( f.add_subplot(3,2,1) )\n",
    "ax.append( f.add_subplot(3,2,2) )\n",
    "ax.append( f.add_subplot(3,2,3) )\n",
    "ax.append( f.add_subplot(3,2,4) )\n",
    "ax.append( f.add_subplot(3,2,5) )\n",
    "seaMap = ListedColormap(sns.color_palette(\"Reds\"))\n",
    "\n",
    "\n",
    "for pltInd, pltAsy in enumerate( asyList ):\n",
    "    pltDF = mltPotDF[ (mltPotDF[\"AsyHRnd\"] == pltAsy) ]\n",
    "    pltDF.plot( x='normMLT',\n",
    "                y='normPot', ax=ax[pltInd], c='b', label=str(pltAsy))\n",
    "\n",
    "    pltPredDF = predPotDF[ (predPotDF[\"predAsy\"] == pltAsy) ]\n",
    "    pltPredDF.plot( x='predNormMLT',\n",
    "                  y='predPot',ax=ax[pltInd], kind=\"scatter\", c= 'r')\n",
    "    ax[pltInd].set_xlim( [-12, 12] )"
   ]
  },
  {
   "cell_type": "code",
   "execution_count": 12,
   "metadata": {
    "collapsed": true
   },
   "outputs": [],
   "source": [
    "# To estimate the boundary we\n",
    "# fit second order harmonics!\n",
    "def mlat_fit_func((mlat, asy),\\\n",
    "            c0_a, c0_b, c1_a,\\\n",
    "            c1_b, c2_a, c2_b):\n",
    "    c0 = c0_a + c0_b * asy\n",
    "    c1 = c1_a + c1_b * asy\n",
    "    c2 = c2_a + c2_b * asy \n",
    "    return c0 + c1*mlat + c2*numpy.square(c2*mlat)"
   ]
  },
  {
   "cell_type": "code",
   "execution_count": 13,
   "metadata": {},
   "outputs": [
    {
     "name": "stdout",
     "output_type": "stream",
     "text": [
      "[  1.13270800e+01  -1.29988131e-02  -4.47627814e-01   2.57106359e-04\n",
      "   1.63956145e-01  -1.37002333e-06]\n"
     ]
    }
   ],
   "source": [
    "mlatPotDF = potDF[ [\"AsyHRnd\", \"normLAT\", \"normPot\", \"MLAT\"]\\\n",
    "                ].groupby( [\"AsyHRnd\", \"normLAT\", \"MLAT\"] \\\n",
    "                ).mean().reset_index()\n",
    "\n",
    "poptMLATPot, pcovMLATPot = curve_fit(mlat_fit_func,\\\n",
    "                               (mlatPotDF['MLAT'].T, mlatPotDF['AsyHRnd'].T),\\\n",
    "                               mlatPotDF['normPot'], p0=(1., 1., 1., 1., 1., 1.))\n",
    "\n",
    "\n",
    "\n",
    "print poptMLATPot\n",
    "\n",
    "predAsyArr = []\n",
    "predMlatArr = []\n",
    "predPotArr = []\n",
    "poptPotArr = []\n",
    "\n",
    "for currAsy in mlatPotDF[\"AsyHRnd\"].unique():\n",
    "    for cpMlat in range(50,65,1):\n",
    "        predMlatArr.append( cpMlat )\n",
    "        predAsyArr.append( currAsy )\n",
    "        # Fit params\n",
    "        predPotArr.append( mlat_fit_func(\\\n",
    "                                    (cpMlat, currAsy), *poptMLATPot) )\n",
    "        poptPotArr.append( poptMLATPot )\n",
    "        if cpMlt > 12.:\n",
    "            normMlt = cpMlt - 24.\n",
    "        else:\n",
    "            normMlt = cpMlt\n",
    "        predNormMltArr.append( normMlt )\n",
    "    \n",
    "predMLATPotDF = pandas.DataFrame({\n",
    "                \"predPot\" : predPotArr,\n",
    "                \"predMLAT\" : predMlatArr,\n",
    "                \"predAsy\" : predAsyArr,\n",
    "                \"poptPot\" : poptPotArr\n",
    "                })\n",
    "\n",
    "# print predMLATPotDF[ predMLATPotDF[\"predAsy\"] == 40. ][ [\"predPot\", \"predMLAT\", \"predAsy\"] ]"
   ]
  },
  {
   "cell_type": "code",
   "execution_count": 14,
   "metadata": {},
   "outputs": [
    {
     "data": {
      "image/png": "[encoded data removed]",
      "text/plain": [
       "<matplotlib.figure.Figure at 0x7f23f3441050>"
      ]
     },
     "metadata": {},
     "output_type": "display_data"
    }
   ],
   "source": [
    "f = plt.figure(figsize=(12, 8))\n",
    "# axm = f.add_subplot(1,1,1)\n",
    "ax = []\n",
    "ax.append( f.add_subplot(3,2,1) )\n",
    "ax.append( f.add_subplot(3,2,2) )\n",
    "ax.append( f.add_subplot(3,2,3) )\n",
    "ax.append( f.add_subplot(3,2,4) )\n",
    "ax.append( f.add_subplot(3,2,5) )\n",
    "for cind, casy in enumerate( mlatPotDF[\"AsyHRnd\"].unique() ):\n",
    "    mlatPotDF[ mlatPotDF[\"AsyHRnd\"] == casy\\\n",
    "             ].plot( x=\"MLAT\", y=\"normPot\", kind=\"scatter\",\\\n",
    "                ax=ax[cind], label=str(casy) )\n",
    "    subpredMLATPotDF = predMLATPotDF[ (predMLATPotDF[\"predAsy\"] == casy) ]\n",
    "    subpredMLATPotDF.plot( x='predMLAT',\n",
    "                  y='predPot', c= 'r',ax=ax[cind], kind=\"scatter\")"
   ]
  },
  {
   "cell_type": "code",
   "execution_count": 15,
   "metadata": {
    "collapsed": true
   },
   "outputs": [],
   "source": [
    "# # To estimate the boundary we\n",
    "# # fit second order harmonics!\n",
    "# def mlt_fit_harmonic((mlt), c1, s1, c2, s2, phiC1, phiS1):\n",
    "#     phiC = (2*numpy.pi/24.) * mlt + phiC1\n",
    "#     phiS = (2*numpy.pi/24.) * mlt + phiS1\n",
    "#     cosTerm = c1 * numpy.cos(phiC)\n",
    "#     sinTerm = s1 * numpy.sin(phiS)\n",
    "#     cos2Term = c2 * numpy.cos(2*phiC)\n",
    "#     sin2Term = s2 * numpy.sin(2*phiS)\n",
    "#     return cosTerm + sinTerm + cos2Term + sin2Term"
   ]
  },
  {
   "cell_type": "code",
   "execution_count": 16,
   "metadata": {},
   "outputs": [],
   "source": [
    "# asyBinList = [ \"(0, 30]\", \"(30, 60]\", \"(60, 90]\", \"(90, 180]\" ]\n",
    "# mltPotDF = potDF[ [\"AsyH-bin\", \"normMLT\", \"normPot\", \"mlt\"]\\\n",
    "#                 ].groupby( [\"AsyH-bin\", \"normMLT\", \"mlt\"] \\\n",
    "#                 ).max().reset_index()\n",
    "# mltPotDF = mltPotDF.dropna()\n",
    "\n",
    "# predAsyBinArr = []\n",
    "# predMltArr = []\n",
    "# predNormMltArr = []\n",
    "# predPotArr = []\n",
    "# poptPotArr = []\n",
    "\n",
    "# for currAsyBin in asyBinList:\n",
    "#     for cpMlt in range(25):\n",
    "#         predMltArr.append( cpMlt )\n",
    "#         predAsyBinArr.append( currAsyBin )\n",
    "#         # Fit params\n",
    "#         selSubMltDF = mltPotDF[ mltPotDF[\"AsyH-bin\"] == currAsyBin ]\n",
    "#         poptNormPot, pcovNormPot = curve_fit(mlt_fit_harmonic,\\\n",
    "#                                        (selSubMltDF['mlt'].T),\\\n",
    "#                                        selSubMltDF['normPot'], p0=(1., 1., 1., 1., 1., 1.))\n",
    "# #         poptNormPot, pcovNormPot = curve_fit(mlt_fit_harmonic,\\\n",
    "# #                                                (selSubMltDF['mlt'].T),\\\n",
    "# #                                                selSubMltDF['normPot'], p0=(1.))\n",
    "#         predPotArr.append( mlt_fit_harmonic(\\\n",
    "#                                     (cpMlt), *poptNormPot) )\n",
    "#         poptPotArr.append( poptNormPot )\n",
    "#         if cpMlt > 12.:\n",
    "#             normMlt = cpMlt - 24.\n",
    "#         else:\n",
    "#             normMlt = cpMlt\n",
    "#         predNormMltArr.append( normMlt )\n",
    "    \n",
    "# predPotDF = pandas.DataFrame({\n",
    "#                 \"predPot\" : predPotArr,\n",
    "#                 \"predMLT\" : predMltArr,\n",
    "#                 \"predNormMLT\" : predNormMltArr,\n",
    "#                 \"predAsyBin\" : predAsyBinArr,\n",
    "#                 \"poptPot\" : poptPotArr\n",
    "#                 })"
   ]
  },
  {
   "cell_type": "code",
   "execution_count": 17,
   "metadata": {},
   "outputs": [],
   "source": [
    "# # get pred values\n",
    "# predMltArr = []\n",
    "# predNormMltArr = []\n",
    "# predPotArr = []\n",
    "\n",
    "# for cpMlt in range(25):\n",
    "#     predMltArr.append( cpMlt )\n",
    "#     predPotArr.append( mlt_fit_harmonic(\\\n",
    "#                                 (cpMlt), *poptNormPot) )\n",
    "#     if cpMlt > 12.:\n",
    "#         normMlt = cpMlt - 24.\n",
    "#     else:\n",
    "#         normMlt = cpMlt\n",
    "#     predNormMltArr.append( normMlt )\n",
    "\n",
    "# predPotDF = pandas.DataFrame({\n",
    "#                 \"predPot\" : predPotArr,\n",
    "#                 \"predMLT\" : predMltArr,\n",
    "#                 \"predNormMLT\" : predNormMltArr\n",
    "#                 })"
   ]
  },
  {
   "cell_type": "code",
   "execution_count": 18,
   "metadata": {},
   "outputs": [],
   "source": [
    "# f = plt.figure(figsize=(12, 8))\n",
    "# ax = []\n",
    "# ax.append( f.add_subplot(2,2,1) )\n",
    "# ax.append( f.add_subplot(2,2,2) )\n",
    "# ax.append( f.add_subplot(2,2,3) )\n",
    "# ax.append( f.add_subplot(2,2,4) )\n",
    "# seaMap = ListedColormap(sns.color_palette(\"Reds\"))\n",
    "\n",
    "\n",
    "# for pltInd, pltAsyBin in enumerate( asyBinList ):\n",
    "#     pltDF = mltPotDF[ (mltPotDF[\"AsyH-bin\"] == pltAsyBin) ]\n",
    "#     pltDF.plot( x='normMLT',\n",
    "#                 y='normPot', ax=ax[pltInd], c='b', label=pltAsyBin)\n",
    "\n",
    "#     pltPredDF = predPotDF[ (predPotDF[\"predAsyBin\"] == pltAsyBin) ]\n",
    "#     pltPredDF.plot( x='predNormMLT',\n",
    "#                   y='predPot',ax=ax[pltInd], kind=\"scatter\", c= 'r')\n",
    "#     ax[pltInd].set_xlim( [-12, 12] )"
   ]
  },
  {
   "cell_type": "code",
   "execution_count": 19,
   "metadata": {},
   "outputs": [],
   "source": [
    "# x0 = predPotDF[ predPotDF[\"predAsyBin\"] == \"(0, 30]\" ][\"poptPot\"].values[0]\n",
    "# x30 = predPotDF[ predPotDF[\"predAsyBin\"] == \"(30, 60]\" ][\"poptPot\"].values[0]\n",
    "# x60 = predPotDF[ predPotDF[\"predAsyBin\"] == \"(60, 90]\" ][\"poptPot\"].values[0]\n",
    "# x90 = predPotDF[ predPotDF[\"predAsyBin\"] == \"(90, 180]\" ][\"poptPot\"].values[0]"
   ]
  },
  {
   "cell_type": "code",
   "execution_count": 20,
   "metadata": {},
   "outputs": [],
   "source": [
    "# asyList = [ 0, 30, 60, 90 ]\n",
    "# f = plt.figure(figsize=(12, 8))\n",
    "# ax = []\n",
    "# ax.append( f.add_subplot(3,2,1) )\n",
    "# ax.append( f.add_subplot(3,2,2) )\n",
    "# ax.append( f.add_subplot(3,2,3) )\n",
    "# ax.append( f.add_subplot(3,2,4) )\n",
    "# ax.append( f.add_subplot(3,2,5) )\n",
    "# ax.append( f.add_subplot(3,2,6) )\n",
    "\n",
    "# for pltParamInd, pltParam in enumerate( x0 ):\n",
    "#     paramList = [ x0[pltParamInd], x30[pltParamInd], x60[pltParamInd], x90[pltParamInd] ]\n",
    "#     ax[pltParamInd].plot( asyList, paramList, \"r*\", markersize=10., label=str(pltParamInd) )\n",
    "#     ax[pltParamInd].legend()\n",
    "# # f.savefig( \"../figs/paramstest.pdf\" )"
   ]
  },
  {
   "cell_type": "code",
   "execution_count": null,
   "metadata": {
    "collapsed": true
   },
   "outputs": [],
   "source": []
  }
 ],
 "metadata": {
  "kernelspec": {
   "display_name": "Python 2",
   "language": "python",
   "name": "python2"
  },
  "language_info": {
   "codemirror_mode": {
    "name": "ipython",
    "version": 2
   },
   "file_extension": ".py",
   "mimetype": "text/x-python",
   "name": "python",
   "nbconvert_exporter": "python",
   "pygments_lexer": "ipython2",
   "version": "2.7.6"
  }
 },
 "nbformat": 4,
 "nbformat_minor": 2
}
