{
 "cells": [
  {
   "cell_type": "code",
   "execution_count": 1,
   "metadata": {
    "collapsed": false
   },
   "outputs": [],
   "source": [
    "import pandas\n",
    "import datetime\n",
    "import numpy\n",
    "from aacgmv2 import convert_mlt, convert"
   ]
  },
  {
   "cell_type": "code",
   "execution_count": 2,
   "metadata": {
    "collapsed": true
   },
   "outputs": [],
   "source": [
    "# Some constants\n",
    "cutOffMLTMLATUniqCnt = 4"
   ]
  },
  {
   "cell_type": "code",
   "execution_count": 3,
   "metadata": {
    "collapsed": true
   },
   "outputs": [],
   "source": [
    "velsDataDF = pandas.read_csv( \"../data/processed-vels-geomag-fin.txt\", sep=' ',\\\n",
    "                            infer_datetime_format=True,\\\n",
    "                            parse_dates=[\"date\"])\n",
    "# Get actual SAPS azimuths\n",
    "velsDataDF[\"azim\"] = -90.-velsDataDF[\"azim\"]\n",
    "velsDataDF.head()\n",
    "# Filter out some values\n",
    "# When there aren't good number of measurements at lats\n",
    "# discard those values\n",
    "cntMLTPntsDF = velsDataDF[ [\"dst_bin\", \"normMLT\", \"MLAT\"] \\\n",
    "                    ].groupby( [\"dst_bin\", \"normMLT\"] \\\n",
    "                    )[\"MLAT\"].nunique().reset_index()\n",
    "cntMLTPntsDF.columns = [\"dst_bin\", \"normMLT\", \"MLATCntUnq\"]\n",
    "cntMLTPntsDF = cntMLTPntsDF[ cntMLTPntsDF[\"MLATCntUnq\"] >=\\\n",
    "                    cutOffMLTMLATUniqCnt ][ [\"dst_bin\", \"normMLT\"]\\\n",
    "                        ].reset_index(drop=True)\n",
    "velsDataDF = pandas.merge( velsDataDF, cntMLTPntsDF,\\\n",
    "                    on=[\"dst_bin\", \"normMLT\"], how=\"inner\" )\n",
    "velsDataDF[\"hour\"] = velsDataDF[\"date\"].apply(lambda x: x.strftime('%H'))\n",
    "velsDataDF[\"minute\"] = velsDataDF[\"date\"].apply(lambda x: x.strftime('%M'))\n",
    "velsDataDF[\"dtStr\"] = velsDataDF[\"date\"].apply(lambda x: x.strftime('%Y%m%d'))"
   ]
  },
  {
   "cell_type": "code",
   "execution_count": 4,
   "metadata": {
    "collapsed": false
   },
   "outputs": [],
   "source": [
    "def get_geo_coords(row):\n",
    "    if row[\"normMLT\"] < 0: \n",
    "        currMLT = row[\"normMLT\"] + 24.\n",
    "    else:\n",
    "        currMLT = row[\"normMLT\"]\n",
    "    currMlon = convert_mlt( currMLT, row[\"date\"] , m2a=True )\n",
    "    glat, glon = convert( row[\"MLAT\"], currMlon , 300, row[\"date\"], a2g=True)\n",
    "    return str(glat) + \"__\" + str(glon)\n",
    "\n",
    "velsDataDF[\"gcoord\"] = velsDataDF.apply( get_geo_coords, axis=1 )\n",
    "velsDataDF[\"glat\"] = [ float( x.split(\"__\")[0] ) for x in velsDataDF[\"gcoord\"] ]\n",
    "velsDataDF[\"glon\"] = [ float( x.split(\"__\")[1] ) for x in velsDataDF[\"gcoord\"] ]"
   ]
  },
  {
   "cell_type": "code",
   "execution_count": 5,
   "metadata": {
    "collapsed": false
   },
   "outputs": [
    {
     "name": "stdout",
     "output_type": "stream",
     "text": [
      "2012-10-14 01:00:00 -6.0 62.0 52.550382777 -100.90428013\n",
      "2012-10-14 01:02:00 -6.0 62.0 52.5925928562 -101.259267751\n",
      "2012-10-14 01:04:00 -6.0 62.0 52.6357252011 -101.61500341\n",
      "2012-10-14 01:06:00 -6.0 62.0 52.6797748781 -101.971500832\n",
      "2012-10-14 01:08:00 -6.0 62.0 52.7247369098 -102.32877383\n",
      "2012-10-14 01:10:00 -6.0 62.0 52.7706062743 -102.686836305\n"
     ]
    }
   ],
   "source": [
    "for index, row in velsDataDF.iterrows():\n",
    "    if index > 5 :\n",
    "        break\n",
    "    print row[\"date\"], row[\"normMLT\"], row[\"MLAT\"], row[\"glat\"], row[\"glon\"]"
   ]
  },
  {
   "cell_type": "code",
   "execution_count": null,
   "metadata": {
    "collapsed": true
   },
   "outputs": [],
   "source": []
  }
 ],
 "metadata": {
  "kernelspec": {
   "display_name": "Python 2",
   "language": "python",
   "name": "python2"
  },
  "language_info": {
   "codemirror_mode": {
    "name": "ipython",
    "version": 2
   },
   "file_extension": ".py",
   "mimetype": "text/x-python",
   "name": "python",
   "nbconvert_exporter": "python",
   "pygments_lexer": "ipython2",
   "version": "2.7.9"
  }
 },
 "nbformat": 4,
 "nbformat_minor": 1
}
