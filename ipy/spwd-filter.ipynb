{
 "cells": [
  {
   "cell_type": "code",
   "execution_count": 5,
   "metadata": {},
   "outputs": [],
   "source": [
    "import pandas\n",
    "import datetime\n",
    "import numpy\n",
    "import scipy.optimize\n",
    "import seaborn as sns\n",
    "import matplotlib.pyplot as plt\n",
    "import os\n",
    "import time\n",
    "import bs4\n",
    "import urllib\n",
    "from matplotlib.colors import ListedColormap\n",
    "from matplotlib.colors import Normalize\n",
    "from matplotlib import ticker\n",
    "import sys\n",
    "sys.path.insert(0, '../py')\n",
    "import get_saps_vels\n",
    "import saps_lshell_vel_map\n",
    "%matplotlib inline"
   ]
  },
  {
   "cell_type": "code",
   "execution_count": 7,
   "metadata": {},
   "outputs": [
    {
     "name": "stdout",
     "output_type": "stream",
     "text": [
      "totCnt--> 10426233\n"
     ]
    }
   ],
   "source": [
    "# Base directory where all the files are stored\n",
    "baseDir = \"/home/bharat/Documents/code/new-vel-data/veldata/\"\n",
    "# Fit results output go to\n",
    "outFitResFil = \"../data/spwidth-all.csv\"\n",
    "# POES Boundary data\n",
    "inpPOESFile = \"../data/processedSaps.txt\"\n",
    "# create a DF with the data\n",
    "sapsDataDF = pandas.read_csv(inpPOESFile,\\\n",
    "             sep=' ', dtype={'dateStr':'str', 'time': 'str'})\n",
    "sapsDataDF[\"date\"] = pandas.to_datetime( \\\n",
    "                sapsDataDF['dateStr'] + \"-\" +\\\n",
    "                sapsDataDF['time'], format='%Y%m%d-%H%M')\n",
    "failedDTObjs = []\n",
    "totCnt = 0\n",
    "# read data from a file\n",
    "for root, dirs, files in os.walk(baseDir):\n",
    "    for fNum, fName in enumerate(files):\n",
    "        currInpLosFile = root + fName    \n",
    "        # READ data\n",
    "        sapsObj = get_saps_vels.ProcessVels(currInpLosFile, sapsDataDF)\n",
    "        totCnt += sapsObj.velsDataDF.shape[0]\n",
    "        spwDF = sapsObj.velsDataDF[ [\"date\", \"MLAT\", \"normMLT\", \"MLON\", \"spwdth\", \"radCode\"] ]\n",
    "        with open(outFitResFil, 'a') as fra:\n",
    "            spwDF.to_csv(fra, header=False,\\\n",
    "                              index=False, sep=' ' )\n",
    "print \"totCnt-->\", totCnt"
   ]
  },
  {
   "cell_type": "code",
   "execution_count": null,
   "metadata": {
    "collapsed": true
   },
   "outputs": [],
   "source": []
  }
 ],
 "metadata": {
  "kernelspec": {
   "display_name": "Python 2",
   "language": "python",
   "name": "python2"
  },
  "language_info": {
   "codemirror_mode": {
    "name": "ipython",
    "version": 2
   },
   "file_extension": ".py",
   "mimetype": "text/x-python",
   "name": "python",
   "nbconvert_exporter": "python",
   "pygments_lexer": "ipython2",
   "version": "2.7.6"
  }
 },
 "nbformat": 4,
 "nbformat_minor": 2
}
