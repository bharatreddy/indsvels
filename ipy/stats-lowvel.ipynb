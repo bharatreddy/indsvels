{
 "cells": [
  {
   "cell_type": "code",
   "execution_count": 1,
   "metadata": {
    "collapsed": false
   },
   "outputs": [
    {
     "name": "stderr",
     "output_type": "stream",
     "text": [
      "/usr/local/lib/python2.7/site-packages/matplotlib/font_manager.py:273: UserWarning: Matplotlib is building the font cache using fc-list. This may take a moment.\n",
      "  warnings.warn('Matplotlib is building the font cache using fc-list. This may take a moment.')\n"
     ]
    }
   ],
   "source": [
    "import pandas\n",
    "import datetime\n",
    "import numpy\n",
    "import scipy.optimize\n",
    "from scipy.stats import linregress\n",
    "import seaborn as sns\n",
    "import matplotlib.pyplot as plt\n",
    "import os\n",
    "import time\n",
    "import bs4\n",
    "import urllib\n",
    "from matplotlib.colors import ListedColormap\n",
    "from matplotlib.colors import Normalize\n",
    "from matplotlib import ticker\n",
    "from davitpy import gme\n",
    "%matplotlib inline"
   ]
  },
  {
   "cell_type": "code",
   "execution_count": 2,
   "metadata": {
    "collapsed": true
   },
   "outputs": [],
   "source": [
    "# Some constants\n",
    "cutOffMLTMLATUniqCnt = 4"
   ]
  },
  {
   "cell_type": "code",
   "execution_count": 3,
   "metadata": {
    "collapsed": false
   },
   "outputs": [],
   "source": [
    "#Let's set a start and end date...\n",
    "sTime = datetime.datetime(2011,1,1)\n",
    "eTime = datetime.datetime(2014,12,31)\n",
    "omnData=gme.ind.omni.readOmni(sTime, eTime)"
   ]
  },
  {
   "cell_type": "code",
   "execution_count": 4,
   "metadata": {
    "collapsed": false
   },
   "outputs": [],
   "source": [
    "omnDF = pandas.DataFrame( {'date' : [ omnData[x].time for x in range(len(omnData))],\n",
    "                          'Bz' : [ omnData[x].bzm for x in range(len(omnData))] }\n",
    "                        ) \n",
    "omnDF[\"hour\"] = omnDF[\"date\"].apply(lambda x: x.strftime('%H'))\n",
    "omnDF[\"minute\"] = omnDF[\"date\"].apply(lambda x: x.strftime('%M'))\n",
    "omnDF[\"dtStr\"] = omnDF[\"date\"].apply(lambda x: x.strftime('%Y%m%d'))"
   ]
  },
  {
   "cell_type": "code",
   "execution_count": 5,
   "metadata": {
    "collapsed": true
   },
   "outputs": [],
   "source": [
    "velsDataDF = pandas.read_csv( \"../data/processed-vels-geomag-fin.txt\", sep=' ',\\\n",
    "                            infer_datetime_format=True,\\\n",
    "                            parse_dates=[\"date\"])\n",
    "# Get actual SAPS azimuths\n",
    "velsDataDF[\"azim\"] = -90.-velsDataDF[\"azim\"]\n",
    "velsDataDF.head()\n",
    "# Filter out some values\n",
    "# When there aren't good number of measurements at lats\n",
    "# discard those values\n",
    "cntMLTPntsDF = velsDataDF[ [\"dst_bin\", \"normMLT\", \"MLAT\"] \\\n",
    "                    ].groupby( [\"dst_bin\", \"normMLT\"] \\\n",
    "                    )[\"MLAT\"].nunique().reset_index()\n",
    "cntMLTPntsDF.columns = [\"dst_bin\", \"normMLT\", \"MLATCntUnq\"]\n",
    "cntMLTPntsDF = cntMLTPntsDF[ cntMLTPntsDF[\"MLATCntUnq\"] >=\\\n",
    "                    cutOffMLTMLATUniqCnt ][ [\"dst_bin\", \"normMLT\"]\\\n",
    "                        ].reset_index(drop=True)\n",
    "velsDataDF = pandas.merge( velsDataDF, cntMLTPntsDF,\\\n",
    "                    on=[\"dst_bin\", \"normMLT\"], how=\"inner\" )\n",
    "velsDataDF[\"hour\"] = velsDataDF[\"date\"].apply(lambda x: x.strftime('%H'))\n",
    "velsDataDF[\"minute\"] = velsDataDF[\"date\"].apply(lambda x: x.strftime('%M'))\n",
    "velsDataDF[\"dtStr\"] = velsDataDF[\"date\"].apply(lambda x: x.strftime('%Y%m%d'))"
   ]
  },
  {
   "cell_type": "code",
   "execution_count": 6,
   "metadata": {
    "collapsed": false
   },
   "outputs": [
    {
     "data": {
      "text/html": [
       "<div>\n",
       "<style>\n",
       "    .dataframe thead tr:only-child th {\n",
       "        text-align: right;\n",
       "    }\n",
       "\n",
       "    .dataframe thead th {\n",
       "        text-align: left;\n",
       "    }\n",
       "\n",
       "    .dataframe tbody tr th {\n",
       "        vertical-align: top;\n",
       "    }\n",
       "</style>\n",
       "<table border=\"1\" class=\"dataframe\">\n",
       "  <thead>\n",
       "    <tr style=\"text-align: right;\">\n",
       "      <th></th>\n",
       "      <th>azim</th>\n",
       "      <th>azimStd</th>\n",
       "      <th>delMLT</th>\n",
       "      <th>goodFit</th>\n",
       "      <th>MLAT</th>\n",
       "      <th>normMLT</th>\n",
       "      <th>vSaps</th>\n",
       "      <th>velSTD</th>\n",
       "      <th>endPtMLAT</th>\n",
       "      <th>endPtNormMLT</th>\n",
       "      <th>...</th>\n",
       "      <th>datetimeStr</th>\n",
       "      <th>AE</th>\n",
       "      <th>AL</th>\n",
       "      <th>AO</th>\n",
       "      <th>AU</th>\n",
       "      <th>count</th>\n",
       "      <th>maxCount</th>\n",
       "      <th>probOcc</th>\n",
       "      <th>Bz</th>\n",
       "      <th>date_y</th>\n",
       "    </tr>\n",
       "  </thead>\n",
       "  <tbody>\n",
       "    <tr>\n",
       "      <th>0</th>\n",
       "      <td>-79.412573</td>\n",
       "      <td>1.794202</td>\n",
       "      <td>0.5</td>\n",
       "      <td>True</td>\n",
       "      <td>62.0</td>\n",
       "      <td>-6.0</td>\n",
       "      <td>306.738497</td>\n",
       "      <td>11.198685</td>\n",
       "      <td>62.06</td>\n",
       "      <td>-6.30</td>\n",
       "      <td>...</td>\n",
       "      <td>20121014-01-00</td>\n",
       "      <td>500</td>\n",
       "      <td>-343</td>\n",
       "      <td>-93</td>\n",
       "      <td>157</td>\n",
       "      <td>470</td>\n",
       "      <td>2562</td>\n",
       "      <td>0.183450</td>\n",
       "      <td>-1.94</td>\n",
       "      <td>2012-10-14 01:00:00</td>\n",
       "    </tr>\n",
       "    <tr>\n",
       "      <th>1</th>\n",
       "      <td>-78.075135</td>\n",
       "      <td>1.005434</td>\n",
       "      <td>0.5</td>\n",
       "      <td>True</td>\n",
       "      <td>61.5</td>\n",
       "      <td>-6.0</td>\n",
       "      <td>296.893207</td>\n",
       "      <td>6.211472</td>\n",
       "      <td>61.56</td>\n",
       "      <td>-6.29</td>\n",
       "      <td>...</td>\n",
       "      <td>20121014-01-00</td>\n",
       "      <td>500</td>\n",
       "      <td>-343</td>\n",
       "      <td>-93</td>\n",
       "      <td>157</td>\n",
       "      <td>572</td>\n",
       "      <td>2562</td>\n",
       "      <td>0.223263</td>\n",
       "      <td>-1.94</td>\n",
       "      <td>2012-10-14 01:00:00</td>\n",
       "    </tr>\n",
       "    <tr>\n",
       "      <th>2</th>\n",
       "      <td>-82.467569</td>\n",
       "      <td>3.532155</td>\n",
       "      <td>0.5</td>\n",
       "      <td>True</td>\n",
       "      <td>60.0</td>\n",
       "      <td>-6.0</td>\n",
       "      <td>220.239731</td>\n",
       "      <td>11.464162</td>\n",
       "      <td>60.03</td>\n",
       "      <td>-6.22</td>\n",
       "      <td>...</td>\n",
       "      <td>20121014-01-00</td>\n",
       "      <td>500</td>\n",
       "      <td>-343</td>\n",
       "      <td>-93</td>\n",
       "      <td>157</td>\n",
       "      <td>554</td>\n",
       "      <td>2562</td>\n",
       "      <td>0.216237</td>\n",
       "      <td>-1.94</td>\n",
       "      <td>2012-10-14 01:00:00</td>\n",
       "    </tr>\n",
       "    <tr>\n",
       "      <th>3</th>\n",
       "      <td>-84.987310</td>\n",
       "      <td>1.491959</td>\n",
       "      <td>0.5</td>\n",
       "      <td>True</td>\n",
       "      <td>60.5</td>\n",
       "      <td>-6.0</td>\n",
       "      <td>233.815511</td>\n",
       "      <td>5.963564</td>\n",
       "      <td>60.52</td>\n",
       "      <td>-6.23</td>\n",
       "      <td>...</td>\n",
       "      <td>20121014-01-00</td>\n",
       "      <td>500</td>\n",
       "      <td>-343</td>\n",
       "      <td>-93</td>\n",
       "      <td>157</td>\n",
       "      <td>566</td>\n",
       "      <td>2562</td>\n",
       "      <td>0.220921</td>\n",
       "      <td>-1.94</td>\n",
       "      <td>2012-10-14 01:00:00</td>\n",
       "    </tr>\n",
       "    <tr>\n",
       "      <th>4</th>\n",
       "      <td>-79.086184</td>\n",
       "      <td>0.914397</td>\n",
       "      <td>0.5</td>\n",
       "      <td>True</td>\n",
       "      <td>62.5</td>\n",
       "      <td>-6.0</td>\n",
       "      <td>343.746070</td>\n",
       "      <td>6.854657</td>\n",
       "      <td>62.57</td>\n",
       "      <td>-6.34</td>\n",
       "      <td>...</td>\n",
       "      <td>20121014-01-00</td>\n",
       "      <td>500</td>\n",
       "      <td>-343</td>\n",
       "      <td>-93</td>\n",
       "      <td>157</td>\n",
       "      <td>494</td>\n",
       "      <td>2562</td>\n",
       "      <td>0.192818</td>\n",
       "      <td>-1.94</td>\n",
       "      <td>2012-10-14 01:00:00</td>\n",
       "    </tr>\n",
       "  </tbody>\n",
       "</table>\n",
       "<p>5 rows × 27 columns</p>\n",
       "</div>"
      ],
      "text/plain": [
       "        azim   azimStd  delMLT  goodFit  MLAT  normMLT       vSaps     velSTD  \\\n",
       "0 -79.412573  1.794202     0.5     True  62.0     -6.0  306.738497  11.198685   \n",
       "1 -78.075135  1.005434     0.5     True  61.5     -6.0  296.893207   6.211472   \n",
       "2 -82.467569  3.532155     0.5     True  60.0     -6.0  220.239731  11.464162   \n",
       "3 -84.987310  1.491959     0.5     True  60.5     -6.0  233.815511   5.963564   \n",
       "4 -79.086184  0.914397     0.5     True  62.5     -6.0  343.746070   6.854657   \n",
       "\n",
       "   endPtMLAT  endPtNormMLT         ...             datetimeStr   AE   AL  AO  \\\n",
       "0      62.06         -6.30         ...          20121014-01-00  500 -343 -93   \n",
       "1      61.56         -6.29         ...          20121014-01-00  500 -343 -93   \n",
       "2      60.03         -6.22         ...          20121014-01-00  500 -343 -93   \n",
       "3      60.52         -6.23         ...          20121014-01-00  500 -343 -93   \n",
       "4      62.57         -6.34         ...          20121014-01-00  500 -343 -93   \n",
       "\n",
       "    AU  count maxCount   probOcc    Bz              date_y  \n",
       "0  157    470     2562  0.183450 -1.94 2012-10-14 01:00:00  \n",
       "1  157    572     2562  0.223263 -1.94 2012-10-14 01:00:00  \n",
       "2  157    554     2562  0.216237 -1.94 2012-10-14 01:00:00  \n",
       "3  157    566     2562  0.220921 -1.94 2012-10-14 01:00:00  \n",
       "4  157    494     2562  0.192818 -1.94 2012-10-14 01:00:00  \n",
       "\n",
       "[5 rows x 27 columns]"
      ]
     },
     "execution_count": 6,
     "metadata": {},
     "output_type": "execute_result"
    }
   ],
   "source": [
    "# Also merge with aymDF\n",
    "# print \"pre merge shape-->\", velsDataDF.shape\n",
    "velsDataDF = pandas.merge( velsDataDF, omnDF,\\\n",
    "                         on=[\"dtStr\", \"hour\", \"minute\"], how='inner')\n",
    "velsDataDF.head()\n",
    "# velsDataDF = velsDataDF [ ['azim','azimStd', 'delMLT', 'goodFit',\\\n",
    "#                       'MLAT', 'normMLT', 'vSaps', 'velSTD',\\\n",
    "#                       'endPtMLAT', 'endPtNormMLT', 'date_x','dtStr',\\\n",
    "#                       'hour', 'minute', 'dst_date', 'dst_index', 'dst_bin',\\\n",
    "#                       'datetimeStr_x', 'AE', 'AL', 'AO', 'AU', 'count', 'maxCount',\\\n",
    "#                        'probOcc', 'AsyD', 'AsyH', 'SymD', 'SymH'] ]\n",
    "# velsDataDF.columns = ['azim','azimStd', 'delMLT', 'goodFit',\\\n",
    "#                       'MLAT', 'normMLT', 'vSaps', 'velSTD',\\\n",
    "#                       'endPtMLAT', 'endPtNormMLT', 'date','dtStr',\\\n",
    "#                       'hour', 'minute', 'dst_date', 'dst_index', 'dst_bin',\\\n",
    "#                       'datetimeStr', 'AE', 'AL', 'AO', 'AU', 'count', 'maxCount',\\\n",
    "#                        'probOcc', 'AsyD', 'AsyH', 'SymD', 'SymH']"
   ]
  },
  {
   "cell_type": "code",
   "execution_count": 7,
   "metadata": {
    "collapsed": true
   },
   "outputs": [],
   "source": [
    "# # Divide asymH index into bins\n",
    "# asyHBins = [ 0, 30, 60, 90, 180 ]\n",
    "# velsDataDF = pandas.concat( [ velsDataDF, \\\n",
    "#                     pandas.cut( velsDataDF[\"AsyH\"], \\\n",
    "#                                bins=asyHBins ) ], axis=1 )\n",
    "# velsDataDF.columns = ['azim','azimStd', 'delMLT', 'goodFit',\\\n",
    "#                       'MLAT', 'normMLT', 'vSaps', 'velSTD',\\\n",
    "#                       'endPtMLAT', 'endPtNormMLT', 'date','dtStr',\\\n",
    "#                       'hour', 'minute', 'dst_date', 'dst_index', 'dst_bin',\\\n",
    "#                       'datetimeStr', 'AE', 'AL', 'AO', 'AU', 'count', 'maxCount',\\\n",
    "#                        'probOcc', 'AsyD', 'AsyH', 'SymD', 'SymH', 'AsyH_bin']"
   ]
  },
  {
   "cell_type": "code",
   "execution_count": 8,
   "metadata": {
    "collapsed": false
   },
   "outputs": [],
   "source": [
    "# # Divide velocities into bins\n",
    "# velBins = [ 0, 200, 500, 1000, 2000 ]\n",
    "# velsDataDF = pandas.concat( [ velsDataDF, \\\n",
    "#                     pandas.cut( velsDataDF[\"vSaps\"], \\\n",
    "#                                bins=velBins ) ], axis=1 )\n",
    "# velsDataDF.columns = ['azim','azimStd', 'delMLT', 'goodFit',\\\n",
    "#                       'MLAT', 'normMLT', 'vSaps', 'velSTD',\\\n",
    "#                       'endPtMLAT', 'endPtNormMLT', 'date','dtStr',\\\n",
    "#                       'hour', 'minute', 'dst_date', 'dst_index', 'dst_bin',\\\n",
    "#                       'datetimeStr', 'AE', 'AL', 'AO', 'AU', 'count', 'maxCount',\\\n",
    "#                        'probOcc', 'AsyD', 'AsyH', 'SymD', 'SymH', 'AsyH_bin', 'vel_bin']"
   ]
  },
  {
   "cell_type": "code",
   "execution_count": 9,
   "metadata": {
    "collapsed": false
   },
   "outputs": [],
   "source": [
    "# velBinMeanDF = velsDataDF.groupby( \"vel_bin\" ).max()\n",
    "# binCols = [ 'MLAT', 'normMLT', 'vSaps', 'dst_index', 'AE', 'AL', 'AO', 'AU', 'count', 'AsyH', 'SymH' ]\n",
    "# velBinMeanDF[binCols].head()"
   ]
  },
  {
   "cell_type": "code",
   "execution_count": 10,
   "metadata": {
    "collapsed": false
   },
   "outputs": [],
   "source": [
    "# lowVelSAPS = velsDataDF[ (velsDataDF[\"vSaps\"] <= 200.) &\\\n",
    "#                        (velsDataDF[\"normMLT\"] >= -3.) ].reset_index(drop=True)\n",
    "# lowVelSAPS.head()"
   ]
  },
  {
   "cell_type": "code",
   "execution_count": 11,
   "metadata": {
    "collapsed": false
   },
   "outputs": [],
   "source": [
    "# lowVelSAPS[ [\"Bz\"] ].hist()"
   ]
  },
  {
   "cell_type": "code",
   "execution_count": 12,
   "metadata": {
    "collapsed": false
   },
   "outputs": [],
   "source": [
    "# lowVelSAPS.plot(x=\"vSaps\", y=\"Bz\", kind=\"scatter\")"
   ]
  },
  {
   "cell_type": "code",
   "execution_count": null,
   "metadata": {
    "collapsed": false
   },
   "outputs": [],
   "source": []
  },
  {
   "cell_type": "code",
   "execution_count": null,
   "metadata": {
    "collapsed": true
   },
   "outputs": [],
   "source": []
  }
 ],
 "metadata": {
  "kernelspec": {
   "display_name": "Python 2",
   "language": "python",
   "name": "python2"
  },
  "language_info": {
   "codemirror_mode": {
    "name": "ipython",
    "version": 2
   },
   "file_extension": ".py",
   "mimetype": "text/x-python",
   "name": "python",
   "nbconvert_exporter": "python",
   "pygments_lexer": "ipython2",
   "version": "2.7.9"
  }
 },
 "nbformat": 4,
 "nbformat_minor": 1
}
