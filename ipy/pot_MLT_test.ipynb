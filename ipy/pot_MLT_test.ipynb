{
 "cells": [
  {
   "cell_type": "code",
   "execution_count": 1,
   "metadata": {
    "collapsed": true
   },
   "outputs": [],
   "source": [
    "import pandas\n",
    "import feather\n",
    "import datetime\n",
    "import numpy\n",
    "from scipy.optimize import curve_fit\n",
    "import seaborn as sns\n",
    "import matplotlib.pyplot as plt\n",
    "from matplotlib.colors import ListedColormap\n",
    "from matplotlib.colors import Normalize\n",
    "from matplotlib import ticker\n",
    "from matplotlib.ticker import FuncFormatter, MaxNLocator\n",
    "from davitpy.models import *\n",
    "from davitpy import utils\n",
    "from aacgmv2 import convert_mlt\n",
    "%matplotlib inline"
   ]
  },
  {
   "cell_type": "code",
   "execution_count": 2,
   "metadata": {
    "collapsed": true
   },
   "outputs": [],
   "source": [
    "sizeAsyCutoff = 50."
   ]
  },
  {
   "cell_type": "code",
   "execution_count": 3,
   "metadata": {},
   "outputs": [
    {
     "data": {
      "text/html": [
       "<div>\n",
       "<table border=\"1\" class=\"dataframe\">\n",
       "  <thead>\n",
       "    <tr style=\"text-align: right;\">\n",
       "      <th></th>\n",
       "      <th>normMLT</th>\n",
       "      <th>normLAT</th>\n",
       "      <th>probSAPS</th>\n",
       "      <th>MLT</th>\n",
       "      <th>Lat</th>\n",
       "      <th>dst_index</th>\n",
       "    </tr>\n",
       "  </thead>\n",
       "  <tbody>\n",
       "    <tr>\n",
       "      <th>0</th>\n",
       "      <td>-6</td>\n",
       "      <td>-7</td>\n",
       "      <td>0.089514</td>\n",
       "      <td>18</td>\n",
       "      <td>50.0</td>\n",
       "      <td>-120.0</td>\n",
       "    </tr>\n",
       "    <tr>\n",
       "      <th>1</th>\n",
       "      <td>-5</td>\n",
       "      <td>-7</td>\n",
       "      <td>0.162988</td>\n",
       "      <td>19</td>\n",
       "      <td>50.0</td>\n",
       "      <td>-120.0</td>\n",
       "    </tr>\n",
       "    <tr>\n",
       "      <th>2</th>\n",
       "      <td>-4</td>\n",
       "      <td>-7</td>\n",
       "      <td>0.223678</td>\n",
       "      <td>20</td>\n",
       "      <td>50.0</td>\n",
       "      <td>-120.0</td>\n",
       "    </tr>\n",
       "    <tr>\n",
       "      <th>3</th>\n",
       "      <td>-3</td>\n",
       "      <td>-7</td>\n",
       "      <td>0.231361</td>\n",
       "      <td>21</td>\n",
       "      <td>50.0</td>\n",
       "      <td>-120.0</td>\n",
       "    </tr>\n",
       "    <tr>\n",
       "      <th>4</th>\n",
       "      <td>-2</td>\n",
       "      <td>-7</td>\n",
       "      <td>0.180367</td>\n",
       "      <td>22</td>\n",
       "      <td>50.0</td>\n",
       "      <td>-120.0</td>\n",
       "    </tr>\n",
       "  </tbody>\n",
       "</table>\n",
       "</div>"
      ],
      "text/plain": [
       "   normMLT  normLAT  probSAPS  MLT   Lat  dst_index\n",
       "0       -6       -7  0.089514   18  50.0     -120.0\n",
       "1       -5       -7  0.162988   19  50.0     -120.0\n",
       "2       -4       -7  0.223678   20  50.0     -120.0\n",
       "3       -3       -7  0.231361   21  50.0     -120.0\n",
       "4       -2       -7  0.180367   22  50.0     -120.0"
      ]
     },
     "execution_count": 3,
     "metadata": {},
     "output_type": "execute_result"
    }
   ],
   "source": [
    "# We need to combine the potential model with\n",
    "# the SAPS location model to limit the data\n",
    "# to locations where we see SAPS\n",
    "def saps_pred_func(x, y, dstInp):\n",
    "#     (a_sx, b_sx, a_sy, b_sy, a_xo, b_xo, a_yo, b_yo, a_o, b_o, theta) = \\\n",
    "#         ( 2.93, 2.67e-3, 2.21, 3e-3, 3.86, 6.03e-2, -0.51, 5.57e-2, 0.985, 0.93e-3, 0.633 )\n",
    "    a_sx = 3.11\n",
    "    b_sx = 0.00371\n",
    "    a_sy = 1.72\n",
    "    b_sy = 0.000819\n",
    "    a_xo = 4.59\n",
    "    b_xo = 0.0633\n",
    "    a_yo = -1.19\n",
    "    b_yo = 0.0321\n",
    "    a_o = 0.893\n",
    "    b_o = -0.00147\n",
    "    theta = 0.692\n",
    "    # parameters from fitting\n",
    "#     (a_sx, b_sx, a_sy, b_sy, a_xo, b_xo, a_yo, b_yo, a_o, b_o, theta) = \\\n",
    "#         ( 2.58, -0.007, 1.03, -0.023, 3.99,  \\\n",
    "#            0.041, -1.63, 0.02, 1.11, 0.006, 0.68 )\n",
    "    sigma_x = a_sx + b_sx * dstInp\n",
    "    sigma_y = a_sy + b_sy * dstInp\n",
    "    xo = a_xo + b_xo * dstInp\n",
    "    yo = a_yo + b_yo * dstInp\n",
    "    amplitude = a_o + b_o * dstInp    \n",
    "    \n",
    "    a = (numpy.cos(theta)**2)/(2*sigma_x**2) + (numpy.sin(theta)**2)/(2*sigma_y**2)\n",
    "    b = -(numpy.sin(2*theta))/(4*sigma_x**2) + (numpy.sin(2*theta))/(4*sigma_y**2)\n",
    "    c = (numpy.sin(theta)**2)/(2*sigma_x**2) + (numpy.cos(theta)**2)/(2*sigma_y**2)\n",
    "    outProb = amplitude*numpy.exp( - (a*((x-xo)**2) + 2*b*(x-xo)*(y-yo) \n",
    "                            + c*((y-yo)**2)))\n",
    "    return outProb\n",
    "\n",
    "### build test dst indices and plot them\n",
    "sapsPredDF = pandas.DataFrame(columns=[\"normMLT\", \"normLAT\", \"probSAPS\", \"MLT\", \"Lat\", \"dst_index\"])\n",
    "latArr = []\n",
    "mltArr = []\n",
    "normLatArr = []\n",
    "normMltArr = []\n",
    "probSapsArr = []\n",
    "dstArr = []\n",
    "dstIndSel = [ -120., -100., -75., -50, -25., -5. ,0. ]\n",
    "for z in dstIndSel:\n",
    "    for x in range( -7, 8 ):\n",
    "        for y in range( -12, 10 ):        \n",
    "            normLatArr.append( x )\n",
    "            normMltArr.append( y )\n",
    "            dstArr.append( z )\n",
    "            if y > 0:\n",
    "                mltArr.append( y )\n",
    "            else:\n",
    "                mltArr.append( y + 24 )\n",
    "            latArr.append( x + 57. )\n",
    "            probSapsArr.append( saps_pred_func(x,y,z) )\n",
    "        \n",
    "sapsPredDF[\"MLT\"] = mltArr\n",
    "sapsPredDF[\"Lat\"] = latArr\n",
    "sapsPredDF[\"normMLT\"] = normMltArr\n",
    "sapsPredDF[\"normLAT\"] = normLatArr\n",
    "sapsPredDF[\"probSAPS\"] = probSapsArr\n",
    "sapsPredDF[\"dst_index\"] = dstArr\n",
    "# Limit SAPS location to where prob > 0.2\n",
    "sapsPredDF = sapsPredDF[ sapsPredDF[\"probSAPS\"] >= 0.05\\\n",
    "                       ].reset_index(drop=True)\n",
    "sapsPredDF.head()"
   ]
  },
  {
   "cell_type": "code",
   "execution_count": 4,
   "metadata": {},
   "outputs": [
    {
     "data": {
      "text/html": [
       "<div>\n",
       "<table border=\"1\" class=\"dataframe\">\n",
       "  <thead>\n",
       "    <tr style=\"text-align: right;\">\n",
       "      <th></th>\n",
       "      <th>AsyH</th>\n",
       "      <th>MLAT</th>\n",
       "      <th>normMLT</th>\n",
       "      <th>potential</th>\n",
       "      <th>normLAT</th>\n",
       "      <th>potMagn</th>\n",
       "      <th>mlt</th>\n",
       "    </tr>\n",
       "  </thead>\n",
       "  <tbody>\n",
       "    <tr>\n",
       "      <th>0</th>\n",
       "      <td>45.0</td>\n",
       "      <td>56.5</td>\n",
       "      <td>-7.0</td>\n",
       "      <td>-2.21</td>\n",
       "      <td>-2.0</td>\n",
       "      <td>2.21</td>\n",
       "      <td>17.0</td>\n",
       "    </tr>\n",
       "    <tr>\n",
       "      <th>1</th>\n",
       "      <td>45.0</td>\n",
       "      <td>57.0</td>\n",
       "      <td>-7.0</td>\n",
       "      <td>-3.82</td>\n",
       "      <td>-1.5</td>\n",
       "      <td>3.82</td>\n",
       "      <td>17.0</td>\n",
       "    </tr>\n",
       "    <tr>\n",
       "      <th>2</th>\n",
       "      <td>45.0</td>\n",
       "      <td>57.5</td>\n",
       "      <td>-7.0</td>\n",
       "      <td>-5.75</td>\n",
       "      <td>-1.0</td>\n",
       "      <td>5.75</td>\n",
       "      <td>17.0</td>\n",
       "    </tr>\n",
       "    <tr>\n",
       "      <th>3</th>\n",
       "      <td>45.0</td>\n",
       "      <td>58.5</td>\n",
       "      <td>-7.0</td>\n",
       "      <td>-7.77</td>\n",
       "      <td>0.0</td>\n",
       "      <td>7.77</td>\n",
       "      <td>17.0</td>\n",
       "    </tr>\n",
       "    <tr>\n",
       "      <th>4</th>\n",
       "      <td>45.0</td>\n",
       "      <td>59.0</td>\n",
       "      <td>-7.0</td>\n",
       "      <td>-10.10</td>\n",
       "      <td>0.5</td>\n",
       "      <td>10.10</td>\n",
       "      <td>17.0</td>\n",
       "    </tr>\n",
       "  </tbody>\n",
       "</table>\n",
       "</div>"
      ],
      "text/plain": [
       "   AsyH  MLAT  normMLT  potential  normLAT  potMagn   mlt\n",
       "0  45.0  56.5     -7.0      -2.21     -2.0     2.21  17.0\n",
       "1  45.0  57.0     -7.0      -3.82     -1.5     3.82  17.0\n",
       "2  45.0  57.5     -7.0      -5.75     -1.0     5.75  17.0\n",
       "3  45.0  58.5     -7.0      -7.77      0.0     7.77  17.0\n",
       "4  45.0  59.0     -7.0     -10.10      0.5    10.10  17.0"
      ]
     },
     "execution_count": 4,
     "metadata": {},
     "output_type": "execute_result"
    }
   ],
   "source": [
    "potDF = feather.read_dataframe('../data/potDF.feather')\n",
    "potDF.head()"
   ]
  },
  {
   "cell_type": "code",
   "execution_count": 5,
   "metadata": {
    "collapsed": true
   },
   "outputs": [],
   "source": [
    "# Get number of values for different Asy Inds\n",
    "# discard those values which have low counts\n",
    "sizeAsyDF = potDF.groupby(\"AsyH\").size().reset_index()\n",
    "sizeAsyDF.columns = [ \"AsyH\", \"asyCnt\" ]\n",
    "sizeAsyDF = sizeAsyDF[ sizeAsyDF[\"asyCnt\"] >= sizeAsyCutoff]\n",
    "potDF = pandas.merge(potDF, sizeAsyDF,\\\n",
    "                     on = \"AsyH\", how=\"inner\"\\\n",
    "                    ).reset_index(drop=True)\n",
    "# Get peak potentials\n",
    "peakPotDF = potDF[[ \"AsyH\", \"potMagn\" ]].groupby( \"AsyH\" ).max().reset_index()\n",
    "peakPotDF.columns = [ \"AsyH\", \"peakPotMagn\" ]"
   ]
  },
  {
   "cell_type": "code",
   "execution_count": 6,
   "metadata": {},
   "outputs": [
    {
     "name": "stdout",
     "output_type": "stream",
     "text": [
      "[-6.4658329852118506, 9.4794209905610565]\n",
      "Vpeak =  -6.47 + 9.48 x log(AsyH-index)\n"
     ]
    }
   ],
   "source": [
    "# We'll model peak potential as a log function of AsyH index.\n",
    "def peak_pot_fit_func( (asy), a_asy, b_asy):\n",
    "    peakPotVal = a_asy + b_asy*numpy.log(asy)    \n",
    "    return peakPotVal\n",
    "\n",
    "poptPeakPot, pcovPeakPot = curve_fit(peak_pot_fit_func,\\\n",
    "                               (peakPotDF['AsyH'].T),\\\n",
    "                               peakPotDF['peakPotMagn'], p0=(1, 0.1))\n",
    "\n",
    "print list(poptPeakPot)\n",
    "\n",
    "print \"Vpeak = \", str( round(poptPeakPot[0],2) ), \"+\", str( round(poptPeakPot[1],2) ), \"x log(AsyH-index)\"\n",
    "\n",
    "# get pred peak potentials\n",
    "peakPotDF[\"predPeakPot\"] = [ peak_pot_fit_func(x, *poptPeakPot) for x in peakPotDF[\"AsyH\"] ]\n",
    "\n",
    "# Normalize the values of potential\n",
    "# for every AsyH value. This makes \n",
    "# fitting easy!\n",
    "potDF = pandas.merge( potDF, peakPotDF, on=\"AsyH\" )\n",
    "potDF[\"normPot\"] = potDF[\"potMagn\"]/potDF[\"peakPotMagn\"]"
   ]
  },
  {
   "cell_type": "code",
   "execution_count": 7,
   "metadata": {
    "collapsed": true
   },
   "outputs": [],
   "source": [
    "# divide data into bins\n",
    "asyHBins = [ 0, 30, 60, 90, 180 ]\n",
    "potDF = pandas.concat( [ potDF, \\\n",
    "                    pandas.cut( potDF[\"AsyH\"], \\\n",
    "                               bins=asyHBins ) ], axis=1 )\n",
    "potDF.columns = [ \"AsyH\", \"MLAT\", \"normMLT\", \"potential\",\\\n",
    "                 \"normLAT\", \"potMagn\", \"mlt\", \"asyCnt\",\\\n",
    "                 \"peakPotMagn\", \"predPeakPot\", \"normPot\", \"AsyH-bin\" ]"
   ]
  },
  {
   "cell_type": "code",
   "execution_count": 8,
   "metadata": {
    "collapsed": true
   },
   "outputs": [],
   "source": [
    "# To estimate the boundary we\n",
    "# fit second order harmonics!\n",
    "def mlt_fit_func((mlt, asy), c1_a, c1_b, s1_a, s1_b,\\\n",
    "                 c2_a, c2_b, s2_a, s2_b, phiC0):\n",
    "    # Setup the base constants \n",
    "    # as functions of Asy index\n",
    "    c1 = c1_a + c1_b*asy\n",
    "    s1 = s1_a + s1_b*asy\n",
    "    c2 = c2_a + c2_b*asy\n",
    "    s2 = s2_a + s2_b*asy\n",
    "    phi0 = (2*numpy.pi/24.) * mlt + phiC0\n",
    "    cosTerm = c1 * numpy.cos(phi0)\n",
    "    sinTerm = s1 * numpy.sin(phi0)\n",
    "    cos2Term = c2 * numpy.cos(2*phi0)\n",
    "    sin2Term = s2 * numpy.sin(2*phi0)\n",
    "    return cosTerm + sinTerm + cos2Term + sin2Term"
   ]
  },
  {
   "cell_type": "code",
   "execution_count": 46,
   "metadata": {},
   "outputs": [
    {
     "name": "stdout",
     "output_type": "stream",
     "text": [
      "[ -7.35286023e-01   2.70479047e-03   1.02620533e+00  -2.33929360e-03\n",
      "   9.10357918e-02  -2.26419837e-03   1.03579421e-01   1.63902905e-03\n",
      "  -3.48009265e+00]\n",
      "[-0.7353, 0.0027, 1.0262, -0.0023, 0.091, -0.0023, 0.1036, 0.0016, -3.4801]\n"
     ]
    }
   ],
   "source": [
    "potDF[\"AsyHRnd\"] = numpy.round(potDF[\"AsyH\"]/30.)*30.\n",
    "mltPotDF = potDF[ [\"AsyHRnd\", \"normMLT\", \"normPot\", \"mlt\"]\\\n",
    "                ].groupby( [\"AsyHRnd\", \"normMLT\", \"mlt\"] \\\n",
    "                ).max().reset_index()\n",
    "mltPotDF = mltPotDF.dropna()\n",
    "mltPotDF.head()\n",
    "\n",
    "maxMLATDF = potDF[ [\"AsyHRnd\", \"normMLT\", \"MLAT\"] ].groupby( [\"AsyHRnd\", \"normMLT\"] ).max().reset_index()\n",
    "normPotVarDF = pandas.merge( potDF, maxMLATDF, on=[\"AsyHRnd\", \"normMLT\", \"MLAT\"] ).reset_index(drop=True)\n",
    "\n",
    "poptNormPot, pcovNormPot = curve_fit(mlt_fit_func,\\\n",
    "                               (mltPotDF['mlt'].T, mltPotDF['AsyHRnd'].T),\\\n",
    "                               mltPotDF['normPot'], p0=(1., 1., 1., 1., 1., 1.,\\\n",
    "                                                          1., 1., 1.))\n",
    "print poptNormPot\n",
    "poptNormPot = [ round(x,4) for x in poptNormPot ]\n",
    "print poptNormPot\n",
    "\n",
    "predAsyArr = []\n",
    "predMltArr = []\n",
    "predNormMltArr = []\n",
    "predPotArr = []\n",
    "poptPotArr = []\n",
    "testInpAsy = 23.\n",
    "for currAsy in ( numpy.append( mltPotDF[\"AsyHRnd\"].unique() , testInpAsy) ):\n",
    "    for cpMlt in range(25):\n",
    "        predMltArr.append( cpMlt )\n",
    "        predAsyArr.append( currAsy )\n",
    "        # Fit params\n",
    "        predPotArr.append( mlt_fit_func(\\\n",
    "                                    (cpMlt, currAsy), *poptNormPot) )\n",
    "        poptPotArr.append( poptNormPot )\n",
    "        if cpMlt > 12.:\n",
    "            normMlt = cpMlt - 24.\n",
    "        else:\n",
    "            normMlt = cpMlt\n",
    "        predNormMltArr.append( normMlt )\n",
    "    \n",
    "predPotDF = pandas.DataFrame({\n",
    "                \"predPot\" : predPotArr,\n",
    "                \"predMLT\" : predMltArr,\n",
    "                \"predNormMLT\" : predNormMltArr,\n",
    "                \"predAsy\" : predAsyArr,\n",
    "                \"poptPot\" : poptPotArr\n",
    "                })"
   ]
  },
  {
   "cell_type": "code",
   "execution_count": 54,
   "metadata": {},
   "outputs": [
    {
     "data": {
      "image/png": "[encoded data removed]",
      "text/plain": [
       "<matplotlib.figure.Figure at 0x7fba41c09ed0>"
      ]
     },
     "metadata": {},
     "output_type": "display_data"
    }
   ],
   "source": [
    "def format_mlt_normMLT_ticks(tick_val, tick_pos):\n",
    "    if tick_val < 0:\n",
    "        return str(tick_val + 24)\n",
    "    else:\n",
    "        return str(tick_val)\n",
    "\n",
    "# asyList = [ 0., 40., 80., 120. ]\n",
    "asyList = [ 0., 30., 60., 90. ]\n",
    "f = plt.figure(figsize=(12, 8))\n",
    "ax = []\n",
    "ax.append( f.add_subplot(2,2,1) )\n",
    "ax.append( f.add_subplot(2,2,2) )\n",
    "ax.append( f.add_subplot(2,2,3) )\n",
    "ax.append( f.add_subplot(2,2,4) )\n",
    "seaMap = ListedColormap(sns.color_palette(\"Reds\"))\n",
    "\n",
    "\n",
    "for pltInd, pltAsy in enumerate( asyList ):\n",
    "    pltDF = mltPotDF[ (mltPotDF[\"AsyHRnd\"] == pltAsy) ]\n",
    "    currNrmPotDF2 = normPotVarDF[ normPotVarDF[\"AsyHRnd\"] == pltAsy ][[\"AsyHRnd\", \"normMLT\", \"normPot\", \"mlt\"]]\n",
    "\n",
    "    if pltDF.shape[0] > 0.:\n",
    "        pltDF.plot( x='normMLT',\n",
    "                    y='normPot', ax=ax[pltInd], c='r', kind=\"scatter\", label=\"data\")\n",
    "#         sns.pointplot(x=\"normMLT\", y=\"normPot\",\n",
    "#                  data=currNrmPotDF2, join=False, ax=ax[pltInd])\n",
    "        \n",
    "    \n",
    "        \n",
    "        \n",
    "#     pltPredDF = predPotDF[ (predPotDF[\"predAsy\"] == pltAsy) ]\n",
    "#     pltPredDF.plot( x='predNormMLT',\n",
    "#                   y='predPot',ax=ax[pltInd], kind=\"line\", c= 'r', label=\"model\")\n",
    "#     ax[pltInd].set_xlim( [-10, 5] )\n",
    "#     ax[pltInd].set_ylim( [-0.5, 1.5] )\n",
    "#     ax[pltInd].text(0.05, 0.9,  \"Asy-H : \" + str(pltAsy),\n",
    "#             transform=ax[pltInd].transAxes,\n",
    "#             color='green', fontsize=14)\n",
    "#     ax[pltInd].tick_params(labelsize=12)\n",
    "#     ax[pltInd].set_ylabel(\"Norm. Potential\", fontsize=14)\n",
    "#     ax[pltInd].set_xlabel(\"MLT\", fontsize=14)\n",
    "#     ax[pltInd].xaxis.set_major_formatter(FuncFormatter(format_mlt_normMLT_ticks))\n",
    "#     ax[pltInd].legend(prop={'size': 12})\n",
    "plt.savefig(\"../figs/Pot-MLT-model2.pdf\",bbox_inches='tight')"
   ]
  },
  {
   "cell_type": "code",
   "execution_count": 11,
   "metadata": {},
   "outputs": [],
   "source": [
    "testDF = potDF[ potDF[\"AsyHRnd\"] == 30 ][ [\"normMLT\", \"normPot\", \"AsyHRnd\"] ]\n",
    "arr = [ testDF[ testDF[\"normMLT\"] == -7. ].values, testDF[ testDF[\"normMLT\"] == -6. ].values,\\\n",
    "       testDF[ testDF[\"normMLT\"] == -5. ].values, testDF[ testDF[\"normMLT\"] == -4. ].values,\\\n",
    "      testDF[ testDF[\"normMLT\"] == -3. ].values, testDF[ testDF[\"normMLT\"] == -2. ].values,\\\n",
    "      testDF[ testDF[\"normMLT\"] == -1. ].values, testDF[ testDF[\"normMLT\"] == 0. ].values,\\\n",
    "      testDF[ testDF[\"normMLT\"] == 1. ].values, testDF[ testDF[\"normMLT\"] == 2. ].values]\n",
    "# sns.tsplot(arr)\n"
   ]
  },
  {
   "cell_type": "code",
   "execution_count": 36,
   "metadata": {},
   "outputs": [
    {
     "data": {
      "text/plain": [
       "<matplotlib.axes._subplots.AxesSubplot at 0x7fba31434fd0>"
      ]
     },
     "execution_count": 36,
     "metadata": {},
     "output_type": "execute_result"
    },
    {
     "data": {
      "image/png": "[encoded data removed]",
      "text/plain": [
       "<matplotlib.figure.Figure at 0x7fba31966210>"
      ]
     },
     "metadata": {},
     "output_type": "display_data"
    }
   ],
   "source": [
    "gammas = sns.load_dataset(\"gammas\")\n",
    "# sns.tsplot(time=\"timepoint\", value=\"BOLD signal\",\n",
    "#                  unit=\"subject\", condition=\"ROI\",\n",
    "#                  data=gammas)\n",
    "maxMLATDF = potDF[ [\"AsyHRnd\", \"normMLT\", \"MLAT\"] ].groupby( [\"AsyHRnd\", \"normMLT\"] ).max().reset_index()\n",
    "testDF = pandas.merge( potDF, maxMLATDF, on=[\"AsyHRnd\", \"normMLT\", \"MLAT\"] ).reset_index(drop=True)\n",
    "sns.pointplot(x=\"normMLT\", y=\"normPot\",\n",
    "                 hue=\"AsyHRnd\",\n",
    "                 data=testDF)"
   ]
  },
  {
   "cell_type": "code",
   "execution_count": 45,
   "metadata": {},
   "outputs": [
    {
     "data": {
      "text/plain": [
       "<matplotlib.axes._subplots.AxesSubplot at 0x7fba30d17050>"
      ]
     },
     "execution_count": 45,
     "metadata": {},
     "output_type": "execute_result"
    },
    {
     "data": {
      "image/png": "[encoded data removed]",
      "text/plain": [
       "<matplotlib.figure.Figure at 0x7fba30e9d150>"
      ]
     },
     "metadata": {},
     "output_type": "display_data"
    }
   ],
   "source": [
    "testDF2 = testDF[ testDF[\"AsyHRnd\"] == 0. ][[\"AsyHRnd\", \"normMLT\", \"normPot\", \"mlt\"]]\n",
    "sns.pointplot(x=\"normMLT\", y=\"normPot\",\n",
    "                 data=testDF2, join=False)"
   ]
  },
  {
   "cell_type": "code",
   "execution_count": 33,
   "metadata": {},
   "outputs": [
    {
     "name": "stdout",
     "output_type": "stream",
     "text": [
      "[array([ 0.3677457,  0.1951567])\n",
      " array([ 0.84689414,  0.58483882,  0.36223636,  1.        ,  0.82791504,\n",
      "        0.49114754,  0.60798759,  0.36434464,  0.28279619,  0.37647479,\n",
      "        0.30658337,  0.28158845])\n",
      " array([ 0.95304754,  0.87283032,  0.88124054,  0.70739873,  0.90124264,\n",
      "        0.85128205,  0.79002809,  0.71520343,  0.70987857,  1.        ,\n",
      "        0.68886199,  0.62855609,  0.92767677,  0.78912564,  0.93317073,\n",
      "        0.83052434,  0.64393443,  0.82415177,  0.67933307,  0.81617418,\n",
      "        0.70338164,  0.67277727,  0.59328189,  0.69467286,  0.31172687,\n",
      "        0.5672058 ,  0.77462758,  0.36946565])\n",
      " array([ 1.        ,  1.        ,  0.9897882 ,  1.        ,  0.98037933,\n",
      "        1.        ,  1.        ,  0.99857245,  1.        ,  0.84482011,\n",
      "        0.99313963,  0.78636608,  0.95434343,  1.        ,  1.        ,\n",
      "        1.        ,  0.78918033,  1.        ,  0.91896084,  1.        ,\n",
      "        0.80434783,  0.95875344,  0.81842941,  1.        ,  0.6952004 ,\n",
      "        0.85722253,  0.93224411,  0.95427196,  0.73638677])\n",
      " array([ 0.97258676,  1.        ,  0.9243388 ,  0.92184434,  0.92136752,\n",
      "        0.90976124,  1.        ,  0.90318346,  0.82184655,  0.97659403,\n",
      "        0.91519055,  1.        ,  0.95113887,  0.97365854,  0.84332085,\n",
      "        1.        ,  0.86793141,  1.        ,  0.91881804,  1.        ,\n",
      "        1.        ,  1.        ,  0.95066142,  1.        ,  0.84718349,\n",
      "        1.        ,  1.        ,  1.        ])\n",
      " array([ 0.80198309,  0.78285512,  0.87216339,  0.90458654,  0.85448005,\n",
      "        0.75242165,  0.82935393,  0.91577445,  0.72595996,  0.83918509,\n",
      "        1.        ,  1.        ,  0.88323232,  0.85562087,  0.97853659,\n",
      "        0.75901639,  0.86428311,  0.91857309,  0.82830482,  0.93574879,\n",
      "        0.91292392,  0.94825238,  0.91598141,  0.93963384,  1.        ,\n",
      "        0.96395963,  0.97533093,  0.89669211])\n",
      " array([ 0.67906482,  0.64227109,  0.81577807,  0.79661017,  0.89747719,\n",
      "        0.75716385,  0.89560976,  0.70983607,  0.76395476,  0.77122916,\n",
      "        0.85990338,  0.83638863,  0.93917385,  0.93270658,  0.85499163,\n",
      "        0.84430562,  0.93080626,  0.86513995])\n",
      " array([ 0.59617428,  0.53462422,  0.68159806,  0.81427805,  0.72556943,\n",
      "        0.63114754,  0.66399124,  0.71888329,  0.72850242,  0.69110907,\n",
      "        0.89468906,  0.78129639,  0.82766313,  0.69822201,  0.90493381,\n",
      "        0.8264631 ])\n",
      " array([ 0.62792575,  0.88835212,  0.53672131,  0.61729296,  0.77826087,\n",
      "        0.69340055,  0.83424048,  0.79921919,  0.716963  ,  0.72623345,\n",
      "        0.83053435])\n",
      " array([ 0.39415819,  0.48374512,  0.54681195,  0.63714439,  0.45494949,\n",
      "        0.42983101,  0.61804878,  0.39508197,  0.50483092,  0.49862511,\n",
      "        0.51883795,  0.46808511,  0.56107083,  0.51177319,  0.59326113,\n",
      "        0.57557252])\n",
      " array([ 0.12873862,  0.14224369,  0.14390244,  0.1178744 ,  0.13978002,\n",
      "        0.16795279,  0.11429985,  0.14445064,  0.12782316,  0.19915764,\n",
      "        0.10687023])]\n"
     ]
    }
   ],
   "source": [
    "print xx"
   ]
  },
  {
   "cell_type": "code",
   "execution_count": 34,
   "metadata": {},
   "outputs": [
    {
     "name": "stdout",
     "output_type": "stream",
     "text": [
      "<type 'numpy.ndarray'>\n"
     ]
    }
   ],
   "source": [
    "x = numpy.linspace(0, 15, 31)\n",
    "data = numpy.sin(x) + numpy.random.rand(10, 31) + numpy.random.randn(10, 1)\n",
    "print type(data[0])"
   ]
  },
  {
   "cell_type": "code",
   "execution_count": null,
   "metadata": {
    "collapsed": true
   },
   "outputs": [],
   "source": []
  }
 ],
 "metadata": {
  "kernelspec": {
   "display_name": "Python 2",
   "language": "python",
   "name": "python2"
  },
  "language_info": {
   "codemirror_mode": {
    "name": "ipython",
    "version": 2
   },
   "file_extension": ".py",
   "mimetype": "text/x-python",
   "name": "python",
   "nbconvert_exporter": "python",
   "pygments_lexer": "ipython2",
   "version": "2.7.6"
  }
 },
 "nbformat": 4,
 "nbformat_minor": 2
}
