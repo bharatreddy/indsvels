{
 "cells": [
  {
   "cell_type": "code",
   "execution_count": 1,
   "metadata": {
    "collapsed": true
   },
   "outputs": [],
   "source": [
    "import pandas\n",
    "import feather\n",
    "import datetime\n",
    "import numpy\n",
    "from scipy.optimize import curve_fit\n",
    "import seaborn as sns\n",
    "import matplotlib.pyplot as plt\n",
    "from matplotlib.colors import ListedColormap\n",
    "from matplotlib.colors import Normalize\n",
    "from matplotlib import ticker\n",
    "from davitpy.models import *\n",
    "from davitpy import utils\n",
    "from aacgmv2 import convert_mlt\n",
    "%matplotlib inline"
   ]
  },
  {
   "cell_type": "code",
   "execution_count": 2,
   "metadata": {
    "collapsed": false
   },
   "outputs": [
    {
     "data": {
      "text/html": [
       "<div>\n",
       "<table border=\"1\" class=\"dataframe\">\n",
       "  <thead>\n",
       "    <tr style=\"text-align: right;\">\n",
       "      <th></th>\n",
       "      <th>normMLT</th>\n",
       "      <th>normLAT</th>\n",
       "      <th>probSAPS</th>\n",
       "      <th>MLT</th>\n",
       "      <th>Lat</th>\n",
       "      <th>dst_index</th>\n",
       "    </tr>\n",
       "  </thead>\n",
       "  <tbody>\n",
       "    <tr>\n",
       "      <th>0</th>\n",
       "      <td>-6</td>\n",
       "      <td>-7</td>\n",
       "      <td>0.089514</td>\n",
       "      <td>18</td>\n",
       "      <td>50.0</td>\n",
       "      <td>-120.0</td>\n",
       "    </tr>\n",
       "    <tr>\n",
       "      <th>1</th>\n",
       "      <td>-5</td>\n",
       "      <td>-7</td>\n",
       "      <td>0.162988</td>\n",
       "      <td>19</td>\n",
       "      <td>50.0</td>\n",
       "      <td>-120.0</td>\n",
       "    </tr>\n",
       "    <tr>\n",
       "      <th>2</th>\n",
       "      <td>-4</td>\n",
       "      <td>-7</td>\n",
       "      <td>0.223678</td>\n",
       "      <td>20</td>\n",
       "      <td>50.0</td>\n",
       "      <td>-120.0</td>\n",
       "    </tr>\n",
       "    <tr>\n",
       "      <th>3</th>\n",
       "      <td>-3</td>\n",
       "      <td>-7</td>\n",
       "      <td>0.231361</td>\n",
       "      <td>21</td>\n",
       "      <td>50.0</td>\n",
       "      <td>-120.0</td>\n",
       "    </tr>\n",
       "    <tr>\n",
       "      <th>4</th>\n",
       "      <td>-2</td>\n",
       "      <td>-7</td>\n",
       "      <td>0.180367</td>\n",
       "      <td>22</td>\n",
       "      <td>50.0</td>\n",
       "      <td>-120.0</td>\n",
       "    </tr>\n",
       "  </tbody>\n",
       "</table>\n",
       "</div>"
      ],
      "text/plain": [
       "   normMLT  normLAT  probSAPS  MLT   Lat  dst_index\n",
       "0       -6       -7  0.089514   18  50.0     -120.0\n",
       "1       -5       -7  0.162988   19  50.0     -120.0\n",
       "2       -4       -7  0.223678   20  50.0     -120.0\n",
       "3       -3       -7  0.231361   21  50.0     -120.0\n",
       "4       -2       -7  0.180367   22  50.0     -120.0"
      ]
     },
     "execution_count": 2,
     "metadata": {},
     "output_type": "execute_result"
    }
   ],
   "source": [
    "# We need to combine the potential model with\n",
    "# the SAPS location model to limit the data\n",
    "# to locations where we see SAPS\n",
    "def saps_pred_func(x, y, dstInp):\n",
    "#     (a_sx, b_sx, a_sy, b_sy, a_xo, b_xo, a_yo, b_yo, a_o, b_o, theta) = \\\n",
    "#         ( 2.93, 2.67e-3, 2.21, 3e-3, 3.86, 6.03e-2, -0.51, 5.57e-2, 0.985, 0.93e-3, 0.633 )\n",
    "    a_sx = 3.11\n",
    "    b_sx = 0.00371\n",
    "    a_sy = 1.72\n",
    "    b_sy = 0.000819\n",
    "    a_xo = 4.59\n",
    "    b_xo = 0.0633\n",
    "    a_yo = -1.19\n",
    "    b_yo = 0.0321\n",
    "    a_o = 0.893\n",
    "    b_o = -0.00147\n",
    "    theta = 0.692\n",
    "    # parameters from fitting\n",
    "#     (a_sx, b_sx, a_sy, b_sy, a_xo, b_xo, a_yo, b_yo, a_o, b_o, theta) = \\\n",
    "#         ( 2.58, -0.007, 1.03, -0.023, 3.99,  \\\n",
    "#            0.041, -1.63, 0.02, 1.11, 0.006, 0.68 )\n",
    "    sigma_x = a_sx + b_sx * dstInp\n",
    "    sigma_y = a_sy + b_sy * dstInp\n",
    "    xo = a_xo + b_xo * dstInp\n",
    "    yo = a_yo + b_yo * dstInp\n",
    "    amplitude = a_o + b_o * dstInp    \n",
    "    \n",
    "    a = (numpy.cos(theta)**2)/(2*sigma_x**2) + (numpy.sin(theta)**2)/(2*sigma_y**2)\n",
    "    b = -(numpy.sin(2*theta))/(4*sigma_x**2) + (numpy.sin(2*theta))/(4*sigma_y**2)\n",
    "    c = (numpy.sin(theta)**2)/(2*sigma_x**2) + (numpy.cos(theta)**2)/(2*sigma_y**2)\n",
    "    outProb = amplitude*numpy.exp( - (a*((x-xo)**2) + 2*b*(x-xo)*(y-yo) \n",
    "                            + c*((y-yo)**2)))\n",
    "    return outProb\n",
    "\n",
    "### build test dst indices and plot them\n",
    "sapsPredDF = pandas.DataFrame(columns=[\"normMLT\", \"normLAT\", \"probSAPS\", \"MLT\", \"Lat\", \"dst_index\"])\n",
    "latArr = []\n",
    "mltArr = []\n",
    "normLatArr = []\n",
    "normMltArr = []\n",
    "probSapsArr = []\n",
    "dstArr = []\n",
    "dstIndSel = [ -120., -100., -75., -50, -25., -5. ,0. ]\n",
    "for z in dstIndSel:\n",
    "    for x in range( -7, 8 ):\n",
    "        for y in range( -12, 10 ):        \n",
    "            normLatArr.append( x )\n",
    "            normMltArr.append( y )\n",
    "            dstArr.append( z )\n",
    "            if y > 0:\n",
    "                mltArr.append( y )\n",
    "            else:\n",
    "                mltArr.append( y + 24 )\n",
    "            latArr.append( x + 57. )\n",
    "            probSapsArr.append( saps_pred_func(x,y,z) )\n",
    "        \n",
    "sapsPredDF[\"MLT\"] = mltArr\n",
    "sapsPredDF[\"Lat\"] = latArr\n",
    "sapsPredDF[\"normMLT\"] = normMltArr\n",
    "sapsPredDF[\"normLAT\"] = normLatArr\n",
    "sapsPredDF[\"probSAPS\"] = probSapsArr\n",
    "sapsPredDF[\"dst_index\"] = dstArr\n",
    "# Limit SAPS location to where prob > 0.2\n",
    "sapsPredDF = sapsPredDF[ sapsPredDF[\"probSAPS\"] >= 0.05\\\n",
    "                       ].reset_index(drop=True)\n",
    "sapsPredDF.head()"
   ]
  },
  {
   "cell_type": "code",
   "execution_count": 3,
   "metadata": {
    "collapsed": true
   },
   "outputs": [],
   "source": [
    "# We'll model peak potential as a log function of AsyH index.\n",
    "def peak_pot_fit_func(asy):\n",
    "    a_asy, b_asy = (-6.47, 9.48)\n",
    "    peakPotVal = a_asy + b_asy*numpy.log(asy)    \n",
    "    return peakPotVal"
   ]
  },
  {
   "cell_type": "code",
   "execution_count": 4,
   "metadata": {
    "collapsed": true
   },
   "outputs": [],
   "source": [
    "# To estimate the MLT variations we\n",
    "# fit second order harmonics!\n",
    "def mlt_fit_func(mlt, asy):\n",
    "    c1_a, c1_b, s1_a, s1_b,\\\n",
    "                 c2_a, c2_b, s2_a, s2_b, phiC1_a,\\\n",
    "                 phiC1_b, phiS1_a, phiS1_b = (1.2138, 0.0171, -0.2115,\\\n",
    "                                              -0.0216, 0.7879, -0.0082,\\\n",
    "                                              -0.785, 0.005, 6.5243, 0.9407,\\\n",
    "                                              7.2761, 0.9453)\n",
    "    \n",
    "    # Setup the base constants \n",
    "    # as functions of Asy index\n",
    "    c1 = c1_a + c1_b*asy\n",
    "    s1 = s1_a + s1_b*asy\n",
    "    c2 = c2_a + c2_b*asy\n",
    "    s2 = s2_a + s2_b*asy\n",
    "    phiC1 = phiC1_a + phiC1_b*asy\n",
    "    phiS1 = phiS1_a + phiS1_b*asy\n",
    "    # Now get to the actual function\n",
    "    phiC = (2*numpy.pi/24.) * mlt + phiC1\n",
    "    phiS = (2*numpy.pi/24.) * mlt + phiS1\n",
    "    cosTerm = c1 * numpy.cos(phiC)\n",
    "    sinTerm = s1 * numpy.sin(phiS)\n",
    "    cos2Term = c2 * numpy.cos(2*phiC)\n",
    "    sin2Term = s2 * numpy.sin(2*phiS)\n",
    "    return cosTerm + sinTerm + cos2Term + sin2Term"
   ]
  },
  {
   "cell_type": "code",
   "execution_count": 5,
   "metadata": {
    "collapsed": true
   },
   "outputs": [],
   "source": [
    "# To estimate the MLAT variations we\n",
    "# fit a second order polynomial\n",
    "def mlat_fit_func(mlat, asy):\n",
    "    c0_a, c0_b, c1_a,\\\n",
    "            c1_b, c2 = (11.31144, -0.01263, -0.44709,\\\n",
    "         0.00024, 0.0044)\n",
    "    c0 = c0_a + c0_b * asy\n",
    "    c1 = c1_a + c1_b * asy\n",
    "    return c0 + c1*mlat + c2*numpy.square(mlat)"
   ]
  },
  {
   "cell_type": "code",
   "execution_count": 6,
   "metadata": {
    "collapsed": true
   },
   "outputs": [],
   "source": [
    "def saps_pot_func( asy, mlt, mlat ):\n",
    "    phiSaps = peak_pot_fit_func(asy)\n",
    "    print \"phiSaps\", phiSaps\n",
    "    mltSaps = mlt_fit_func(mlt, asy)\n",
    "    print \"mltSaps\", mltSaps\n",
    "    mlatSaps = mlat_fit_func(mlat, asy)\n",
    "    print \"mlatSaps\", mlatSaps\n",
    "    return phiSaps*mltSaps*mlatSaps"
   ]
  },
  {
   "cell_type": "code",
   "execution_count": 15,
   "metadata": {
    "collapsed": false
   },
   "outputs": [
    {
     "name": "stdout",
     "output_type": "stream",
     "text": [
      "phiSaps 37.1870133632\n",
      "mltSaps 0.696585682603\n",
      "mlatSaps 0.61235\n",
      "15.862278325\n"
     ]
    }
   ],
   "source": [
    "print saps_pot_func( 100, 22, 61)\n",
    "# print mlat_fit_func(60, 120)"
   ]
  },
  {
   "cell_type": "code",
   "execution_count": null,
   "metadata": {
    "collapsed": true
   },
   "outputs": [],
   "source": []
  }
 ],
 "metadata": {
  "kernelspec": {
   "display_name": "Python 2",
   "language": "python",
   "name": "python2"
  },
  "language_info": {
   "codemirror_mode": {
    "name": "ipython",
    "version": 2
   },
   "file_extension": ".py",
   "mimetype": "text/x-python",
   "name": "python",
   "nbconvert_exporter": "python",
   "pygments_lexer": "ipython2",
   "version": "2.7.9"
  }
 },
 "nbformat": 4,
 "nbformat_minor": 1
}
