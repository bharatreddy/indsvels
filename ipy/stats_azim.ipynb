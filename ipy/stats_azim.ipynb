{
 "cells": [
  {
   "cell_type": "code",
   "execution_count": 1,
   "metadata": {
    "collapsed": true
   },
   "outputs": [],
   "source": [
    "import pandas\n",
    "import datetime\n",
    "import numpy\n",
    "import scipy.optimize\n",
    "from scipy.optimize import curve_fit\n",
    "from scipy.stats import linregress\n",
    "import seaborn as sns\n",
    "import matplotlib.pyplot as plt\n",
    "import os\n",
    "import time\n",
    "import bs4\n",
    "import urllib\n",
    "from matplotlib.colors import ListedColormap, LinearSegmentedColormap\n",
    "from matplotlib.colors import Normalize\n",
    "from matplotlib import ticker\n",
    "from matplotlib.ticker import FuncFormatter, MaxNLocator\n",
    "import matplotlib.colors as colors\n",
    "%matplotlib inline"
   ]
  },
  {
   "cell_type": "code",
   "execution_count": 2,
   "metadata": {
    "collapsed": true
   },
   "outputs": [],
   "source": [
    "# Some constants\n",
    "cutOffMLTMLATUniqCnt = 4"
   ]
  },
  {
   "cell_type": "code",
   "execution_count": 3,
   "metadata": {},
   "outputs": [
    {
     "data": {
      "text/html": [
       "<div>\n",
       "<table border=\"1\" class=\"dataframe\">\n",
       "  <thead>\n",
       "    <tr style=\"text-align: right;\">\n",
       "      <th></th>\n",
       "      <th>datetimeStr</th>\n",
       "      <th>AsyD</th>\n",
       "      <th>AsyH</th>\n",
       "      <th>SymD</th>\n",
       "      <th>SymH</th>\n",
       "      <th>date</th>\n",
       "      <th>hour</th>\n",
       "      <th>minute</th>\n",
       "      <th>dtStr</th>\n",
       "    </tr>\n",
       "  </thead>\n",
       "  <tbody>\n",
       "    <tr>\n",
       "      <th>0</th>\n",
       "      <td>20110101-00-00</td>\n",
       "      <td>17.0</td>\n",
       "      <td>13.0</td>\n",
       "      <td>1.0</td>\n",
       "      <td>-10.0</td>\n",
       "      <td>2011-01-01 00:00:00</td>\n",
       "      <td>00</td>\n",
       "      <td>00</td>\n",
       "      <td>20110101</td>\n",
       "    </tr>\n",
       "    <tr>\n",
       "      <th>1</th>\n",
       "      <td>20110101-00-01</td>\n",
       "      <td>17.0</td>\n",
       "      <td>13.0</td>\n",
       "      <td>1.0</td>\n",
       "      <td>-10.0</td>\n",
       "      <td>2011-01-01 00:01:00</td>\n",
       "      <td>00</td>\n",
       "      <td>01</td>\n",
       "      <td>20110101</td>\n",
       "    </tr>\n",
       "    <tr>\n",
       "      <th>2</th>\n",
       "      <td>20110101-00-02</td>\n",
       "      <td>17.0</td>\n",
       "      <td>13.0</td>\n",
       "      <td>1.0</td>\n",
       "      <td>-10.0</td>\n",
       "      <td>2011-01-01 00:02:00</td>\n",
       "      <td>00</td>\n",
       "      <td>02</td>\n",
       "      <td>20110101</td>\n",
       "    </tr>\n",
       "    <tr>\n",
       "      <th>3</th>\n",
       "      <td>20110101-00-03</td>\n",
       "      <td>17.0</td>\n",
       "      <td>13.0</td>\n",
       "      <td>1.0</td>\n",
       "      <td>-10.0</td>\n",
       "      <td>2011-01-01 00:03:00</td>\n",
       "      <td>00</td>\n",
       "      <td>03</td>\n",
       "      <td>20110101</td>\n",
       "    </tr>\n",
       "    <tr>\n",
       "      <th>4</th>\n",
       "      <td>20110101-00-04</td>\n",
       "      <td>17.0</td>\n",
       "      <td>13.0</td>\n",
       "      <td>1.0</td>\n",
       "      <td>-10.0</td>\n",
       "      <td>2011-01-01 00:04:00</td>\n",
       "      <td>00</td>\n",
       "      <td>04</td>\n",
       "      <td>20110101</td>\n",
       "    </tr>\n",
       "  </tbody>\n",
       "</table>\n",
       "</div>"
      ],
      "text/plain": [
       "      datetimeStr  AsyD  AsyH  SymD  SymH                date hour minute  \\\n",
       "0  20110101-00-00  17.0  13.0   1.0 -10.0 2011-01-01 00:00:00   00     00   \n",
       "1  20110101-00-01  17.0  13.0   1.0 -10.0 2011-01-01 00:01:00   00     01   \n",
       "2  20110101-00-02  17.0  13.0   1.0 -10.0 2011-01-01 00:02:00   00     02   \n",
       "3  20110101-00-03  17.0  13.0   1.0 -10.0 2011-01-01 00:03:00   00     03   \n",
       "4  20110101-00-04  17.0  13.0   1.0 -10.0 2011-01-01 00:04:00   00     04   \n",
       "\n",
       "      dtStr  \n",
       "0  20110101  \n",
       "1  20110101  \n",
       "2  20110101  \n",
       "3  20110101  \n",
       "4  20110101  "
      ]
     },
     "execution_count": 3,
     "metadata": {},
     "output_type": "execute_result"
    }
   ],
   "source": [
    "# Asy Inds\n",
    "asyDF = pandas.read_csv( \"../data/Asy_processed.txt\", sep=' ' )\n",
    "asyDF[\"date\"] = pandas.to_datetime(asyDF[\"datetimeStr\"], format='%Y%m%d-%H-%M')\n",
    "asyDF[\"hour\"] = asyDF[\"date\"].apply(lambda x: x.strftime('%H'))\n",
    "asyDF[\"minute\"] = asyDF[\"date\"].apply(lambda x: x.strftime('%M'))\n",
    "asyDF[\"dtStr\"] = asyDF[\"date\"].apply(lambda x: x.strftime('%Y%m%d'))\n",
    "asyDF.head()"
   ]
  },
  {
   "cell_type": "code",
   "execution_count": 4,
   "metadata": {
    "collapsed": true
   },
   "outputs": [],
   "source": [
    "velsDataDF = pandas.read_csv( \"../data/processed-vels-geomag-fin.txt\", sep=' ',\\\n",
    "                            infer_datetime_format=True,\\\n",
    "                            parse_dates=[\"date\"])\n",
    "# Get actual SAPS azimuths\n",
    "velsDataDF[\"azim\"] = -90.-velsDataDF[\"azim\"]\n",
    "velsDataDF.head()\n",
    "# Filter out some values\n",
    "# When there aren't good number of measurements at lats\n",
    "# discard those values\n",
    "cntMLTPntsDF = velsDataDF[ [\"dst_bin\", \"normMLT\", \"MLAT\"] \\\n",
    "                    ].groupby( [\"dst_bin\", \"normMLT\"] \\\n",
    "                    )[\"MLAT\"].nunique().reset_index()\n",
    "cntMLTPntsDF.columns = [\"dst_bin\", \"normMLT\", \"MLATCntUnq\"]\n",
    "cntMLTPntsDF = cntMLTPntsDF[ cntMLTPntsDF[\"MLATCntUnq\"] >=\\\n",
    "                    cutOffMLTMLATUniqCnt ][ [\"dst_bin\", \"normMLT\"]\\\n",
    "                        ].reset_index(drop=True)\n",
    "velsDataDF = pandas.merge( velsDataDF, cntMLTPntsDF,\\\n",
    "                    on=[\"dst_bin\", \"normMLT\"], how=\"inner\" )\n",
    "velsDataDF[\"hour\"] = velsDataDF[\"date\"].apply(lambda x: x.strftime('%H'))\n",
    "velsDataDF[\"minute\"] = velsDataDF[\"date\"].apply(lambda x: x.strftime('%M'))\n",
    "velsDataDF[\"dtStr\"] = velsDataDF[\"date\"].apply(lambda x: x.strftime('%Y%m%d'))"
   ]
  },
  {
   "cell_type": "code",
   "execution_count": 5,
   "metadata": {
    "collapsed": true
   },
   "outputs": [],
   "source": [
    "# Also merge with aymDF\n",
    "# print \"pre merge shape-->\", velsDataDF.shape\n",
    "velsDataDF = pandas.merge( velsDataDF, asyDF,\\\n",
    "                         on=[\"dtStr\", \"hour\", \"minute\"], how='inner')\n",
    "velsDataDF = velsDataDF [ ['azim','azimStd', 'delMLT', 'goodFit',\\\n",
    "                      'MLAT', 'normMLT', 'vSaps', 'velSTD',\\\n",
    "                      'endPtMLAT', 'endPtNormMLT', 'date_x','dtStr',\\\n",
    "                      'hour', 'minute', 'dst_date', 'dst_index', 'dst_bin',\\\n",
    "                      'datetimeStr_x', 'AE', 'AL', 'AO', 'AU', 'count', 'maxCount',\\\n",
    "                       'probOcc', 'AsyD', 'AsyH', 'SymD', 'SymH'] ]\n",
    "velsDataDF.columns = ['azim','azimStd', 'delMLT', 'goodFit',\\\n",
    "                      'MLAT', 'normMLT', 'vSaps', 'velSTD',\\\n",
    "                      'endPtMLAT', 'endPtNormMLT', 'date','dtStr',\\\n",
    "                      'hour', 'minute', 'dst_date', 'dst_index', 'dst_bin',\\\n",
    "                      'datetimeStr', 'AE', 'AL', 'AO', 'AU', 'count', 'maxCount',\\\n",
    "                       'probOcc', 'AsyD', 'AsyH', 'SymD', 'SymH']"
   ]
  },
  {
   "cell_type": "code",
   "execution_count": 6,
   "metadata": {
    "collapsed": true
   },
   "outputs": [],
   "source": [
    "# Divide asymH index into bins\n",
    "asyHBins = [ 0, 30, 60, 90, 180 ]\n",
    "velsDataDF = pandas.concat( [ velsDataDF, \\\n",
    "                    pandas.cut( velsDataDF[\"AsyH\"], \\\n",
    "                               bins=asyHBins ) ], axis=1 )\n",
    "velsDataDF.columns = ['azim','azimStd', 'delMLT', 'goodFit',\\\n",
    "                      'MLAT', 'normMLT', 'vSaps', 'velSTD',\\\n",
    "                      'endPtMLAT', 'endPtNormMLT', 'date','dtStr',\\\n",
    "                      'hour', 'minute', 'dst_date', 'dst_index', 'dst_bin',\\\n",
    "                      'datetimeStr', 'AE', 'AL', 'AO', 'AU', 'count', 'maxCount',\\\n",
    "                       'probOcc', 'AsyD', 'AsyH', 'SymD', 'SymH', 'AsyH_bin']"
   ]
  },
  {
   "cell_type": "code",
   "execution_count": 7,
   "metadata": {},
   "outputs": [],
   "source": [
    "mltAzimsVarsDF = velsDataDF[ [\"normMLT\", \"AsyH_bin\", \"azim\"] \\\n",
    "                    ].groupby( [\"normMLT\", \"AsyH_bin\"] ).mean().reset_index()\n",
    "mltAzimsVarsDF.columns = [\"normMLT\", \"AsyH_bin\", \"mean_azim\"]\n",
    "stdAzimsVarsDF = velsDataDF[ [\"normMLT\", \"AsyH_bin\", \"azim\"] \\\n",
    "                    ].groupby( [\"normMLT\", \"AsyH_bin\"] ).std().reset_index()\n",
    "stdAzimsVarsDF.columns = [\"normMLT\", \"AsyH_bin\", \"std_azim\"]\n",
    "mltAzimsVarsDF = pandas.merge( mltAzimsVarsDF, stdAzimsVarsDF, on=[\"normMLT\", \"AsyH_bin\"] )\n",
    "mltAzimsVarsDF = mltAzimsVarsDF[ mltAzimsVarsDF[\"normMLT\"] <= 2 ]\n",
    "mltAzimsVarsDF = mltAzimsVarsDF.round(2)"
   ]
  },
  {
   "cell_type": "code",
   "execution_count": 8,
   "metadata": {},
   "outputs": [
    {
     "name": "stdout",
     "output_type": "stream",
     "text": [
      "    normMLT AsyH_bin  mean_azim  std_azim\n",
      "0      -7.0  (0, 30]     -85.48      2.28\n",
      "4      -6.0  (0, 30]     -82.12      6.02\n",
      "8      -5.0  (0, 30]     -82.01      5.14\n",
      "12     -4.0  (0, 30]     -82.91      6.29\n",
      "16     -3.0  (0, 30]     -83.09      6.63\n",
      "20     -2.0  (0, 30]     -83.78      7.60\n",
      "24     -1.0  (0, 30]     -84.64      8.99\n",
      "28      0.0  (0, 30]     -84.94     10.23\n",
      "32      1.0  (0, 30]     -84.77     10.68\n",
      "36      2.0  (0, 30]     -85.64     11.76\n",
      "AsyH 30--> -0.245575757576 -84.5519393939 -0.552707195312 0.0975251454132 0.130914008045\n",
      "AsyH 60--> -0.960424242424 -88.1020606061 -0.995172614247 2.36215307423e-09 0.0334862059234\n",
      "AsyH 90--> -1.20248484848 -90.0852121212 -0.943433438668 4.18242178006e-05 0.149412894489\n",
      "AsyH 180--> -2.37278787879 -94.426969697 -0.985777942272 1.7595294793e-07 0.143014932405\n"
     ]
    }
   ],
   "source": [
    "def linear_func(x, slope, intrcpt):\n",
    "    # we are working in degrees but numpy deals with radians\n",
    "    # convert to radians\n",
    "    return intrcpt + slope*x\n",
    "\n",
    "fitDFAsyH30 = mltAzimsVarsDF[ mltAzimsVarsDF[ \"AsyH_bin\" ] == \"(0, 30]\" ].dropna()\n",
    "fitDFAsyH60 = mltAzimsVarsDF[ mltAzimsVarsDF[ \"AsyH_bin\" ] == \"(30, 60]\" ].dropna()\n",
    "fitDFAsyH90 = mltAzimsVarsDF[ mltAzimsVarsDF[ \"AsyH_bin\" ] == \"(60, 90]\" ].dropna()\n",
    "fitDFAsyH180 = mltAzimsVarsDF[ mltAzimsVarsDF[ \"AsyH_bin\" ] == \"(90, 180]\" ].dropna()\n",
    "print fitDFAsyH30\n",
    "slope30, intercept30, r_value30,\\\n",
    "    p_value30, std_err30 = linregress(\\\n",
    "                fitDFAsyH30['normMLT'].T,fitDFAsyH30['mean_azim'].T )\n",
    "popt30 = []\n",
    "popt30.append( slope30 )\n",
    "popt30.append( intercept30 )\n",
    "\n",
    "print \"AsyH 30-->\", slope30, intercept30, r_value30, p_value30, std_err30\n",
    "\n",
    "slope60, intercept60, r_value60,\\\n",
    "    p_value60, std_err60 = linregress(\\\n",
    "                fitDFAsyH60['normMLT'].T,fitDFAsyH60['mean_azim'].T )\n",
    "popt60 = []\n",
    "popt60.append( slope60 )\n",
    "popt60.append( intercept60 )\n",
    "\n",
    "print \"AsyH 60-->\", slope60, intercept60, r_value60, p_value60, std_err60\n",
    "\n",
    "\n",
    "slope90, intercept90, r_value90,\\\n",
    "    p_value90, std_err90 = linregress(\\\n",
    "                fitDFAsyH90['normMLT'].T,fitDFAsyH90['mean_azim'].T )\n",
    "popt90 = []\n",
    "popt90.append( slope90 )\n",
    "popt90.append( intercept90 )\n",
    "\n",
    "\n",
    "print \"AsyH 90-->\", slope90, intercept90, r_value90, p_value90, std_err90\n",
    "\n",
    "slope180, intercept180, r_value180,\\\n",
    "    p_value180, std_err180 = linregress(\\\n",
    "                fitDFAsyH180['normMLT'].T,fitDFAsyH180['mean_azim'].T )\n",
    "popt180 = []\n",
    "popt180.append( slope180 )\n",
    "popt180.append( intercept180 )\n",
    "\n",
    "\n",
    "print \"AsyH 180-->\", slope180, intercept180, r_value180, p_value180, std_err180\n",
    "\n",
    "\n",
    "# Now get data from the fits\n",
    "normMLTModel30 = range( int( numpy.min(fitDFAsyH30['normMLT']) ), int( numpy.max(fitDFAsyH30['normMLT']) ) + 1, 1)\n",
    "velArrModel30 = [ round( linear_func(t, popt30[0], popt30[1]) ) for t in normMLTModel30 ]\n",
    "\n",
    "normMLTModel60 = range( int( numpy.min(fitDFAsyH60['normMLT']) ), int( numpy.max(fitDFAsyH60['normMLT']) ) + 1, 1)\n",
    "velArrModel60 = [ round( linear_func(t, popt60[0], popt60[1]) ) for t in normMLTModel60 ]\n",
    "\n",
    "normMLTModel90 = range( int( numpy.min(fitDFAsyH90['normMLT']) ), int( numpy.max(fitDFAsyH90['normMLT']) ) + 1, 1)\n",
    "velArrModel90 = [ round( linear_func(t, popt90[0], popt90[1]) ) for t in normMLTModel90 ]\n",
    "\n",
    "normMLTModel180 = range( int( numpy.min(fitDFAsyH180['normMLT']) ), int( numpy.max(fitDFAsyH180['normMLT']) ) + 1, 1)\n",
    "velArrModel180 = [ round( linear_func(t, popt180[0], popt180[1]) ) for t in normMLTModel180 ]\n"
   ]
  },
  {
   "cell_type": "code",
   "execution_count": 9,
   "metadata": {
    "collapsed": true
   },
   "outputs": [],
   "source": [
    "strAzim30 = \"Azim = \" + str( int(round( popt30[1] ) ) ) + \" + (\" + str( int( round( popt30[0] ) ) )  + \") x $\\Delta MLT_{00}$\"\n",
    "strAzim60 = \"Azim = \" + str( int( round( popt60[1] ) ) ) + \" + (\" + str( int( round( popt60[0] ) ) )  + \") x $\\Delta MLT_{00}$\"\n",
    "strAzim90 = \"Azim = \" + str( int( round( popt90[1] ) ) ) + \" + (\" + str( int( round( popt90[0] ) ) )  + \") x $\\Delta MLT_{00}$\"\n",
    "strAzim180 = \"Azim = \" + str( int( round( popt180[1] ) ) ) + \" + (\" + str( int( round( popt180[0] ) ) )  + \") x $\\Delta MLT_{00}$\""
   ]
  },
  {
   "cell_type": "code",
   "execution_count": 10,
   "metadata": {},
   "outputs": [],
   "source": [
    "def format_mlt_normMLT_ticks(tick_val, tick_pos):\n",
    "    if tick_val < 0:\n",
    "        return str(tick_val + 24)\n",
    "    else:\n",
    "        return str(tick_val)"
   ]
  },
  {
   "cell_type": "code",
   "execution_count": 16,
   "metadata": {},
   "outputs": [
    {
     "name": "stderr",
     "output_type": "stream",
     "text": [
      "/usr/local/lib/python2.7/dist-packages/ipykernel_launcher.py:10: FutureWarning: sort(columns=....) is deprecated, use sort_values(by=.....)\n",
      "  # Remove the CWD from sys.path while we load stuff.\n"
     ]
    },
    {
     "data": {
      "image/png": "[encoded data removed]",
      "text/plain": [
       "<matplotlib.figure.Figure at 0x7f1012175a50>"
      ]
     },
     "metadata": {},
     "output_type": "display_data"
    }
   ],
   "source": [
    "sns.set_style(\"whitegrid\")\n",
    "sns.set_context(\"poster\")\n",
    "\n",
    "f = plt.figure(figsize=(12, 8))\n",
    "ax1 = f.add_subplot(2,2,1)\n",
    "ax2 = f.add_subplot(2,2,2)\n",
    "ax3 = f.add_subplot(2,2,3)\n",
    "ax4 = f.add_subplot(2,2,4)\n",
    "\n",
    "mltAzimsVarsDF = mltAzimsVarsDF.sort([\"normMLT\"])\n",
    "unqNrmMLTList = sorted( mltAzimsVarsDF[\"normMLT\"].unique().tolist() )\n",
    "mltStr = []\n",
    "for j in unqNrmMLTList:\n",
    "    if j < 0:\n",
    "        mltStr.append( str(int(j + 24)) )\n",
    "    else:\n",
    "        mltStr.append( str(int(j)) )\n",
    "###### PLOT AsyH_bin (0, 30] ######\n",
    "###### PLOT AsyH_bin (0, 30] ######\n",
    "###### PLOT AsyH_bin (0, 30] ######\n",
    "\n",
    "ax1.scatter(mltAzimsVarsDF['normMLT'][mltAzimsVarsDF['AsyH_bin'] == \"(0, 30]\"],\n",
    "            mltAzimsVarsDF['mean_azim'][mltAzimsVarsDF['AsyH_bin'] == \"(0, 30]\"],\n",
    "            marker='o',\n",
    "            color='dodgerblue',\n",
    "            alpha=0.7,\n",
    "            s = 124,\n",
    "            label='(0, 30]')\n",
    "ax1.errorbar(mltAzimsVarsDF['normMLT'][mltAzimsVarsDF['AsyH_bin'] == \"(0, 30]\"],\\\n",
    "             mltAzimsVarsDF['mean_azim'][mltAzimsVarsDF['AsyH_bin'] == \"(0, 30]\"],\\\n",
    "             yerr=mltAzimsVarsDF['std_azim'][mltAzimsVarsDF['AsyH_bin'] == \"(0, 30]\"], \\\n",
    "             color='dodgerblue', label='', capthick=2., capsize=5., fmt='o')\n",
    "# ax1.plot( normMLTModel30, velArrModel30, color='dodgerblue' )\n",
    "\n",
    "ax1.xaxis.set_major_formatter(FuncFormatter(format_mlt_normMLT_ticks)) \n",
    "ax1.text(-7., -95., \"0<AsyH<=30\", fontsize=10, color='dodgerblue') \n",
    "\n",
    "###### PLOT AsyH_bin (0, 30] ######\n",
    "###### PLOT AsyH_bin (0, 30] ######\n",
    "###### PLOT AsyH_bin (0, 30] ######\n",
    "\n",
    "\n",
    "###### PLOT AsyH_bin (30, 60] ######\n",
    "###### PLOT AsyH_bin (30, 60] ######\n",
    "###### PLOT AsyH_bin (30, 60] ######\n",
    "\n",
    "ax2.scatter(mltAzimsVarsDF['normMLT'][mltAzimsVarsDF['AsyH_bin'] == \"(30, 60]\"],\n",
    "            mltAzimsVarsDF['mean_azim'][mltAzimsVarsDF['AsyH_bin'] == \"(30, 60]\"],\n",
    "            marker='o',\n",
    "            color='seagreen',\n",
    "            alpha=0.7,\n",
    "            s = 124,\n",
    "            label='(30, 60]')\n",
    "ax2.errorbar(mltAzimsVarsDF['normMLT'][mltAzimsVarsDF['AsyH_bin'] == \"(30, 60]\"],\\\n",
    "             mltAzimsVarsDF['mean_azim'][mltAzimsVarsDF['AsyH_bin'] == \"(30, 60]\"],\\\n",
    "             yerr=mltAzimsVarsDF['std_azim'][mltAzimsVarsDF['AsyH_bin'] == \"(30, 60]\"], \\\n",
    "             color='seagreen', label='', capthick=2., capsize=5., fmt='o')\n",
    "\n",
    "# ax2.plot( normMLTModel60, velArrModel60, color='seagreen' )\n",
    "\n",
    "ax2.xaxis.set_major_formatter(FuncFormatter(format_mlt_normMLT_ticks)) \n",
    "ax2.text(-7., -100., \"30<AsyH<=60\", fontsize=10, color='seagreen') \n",
    "\n",
    "###### PLOT AsyH_bin (30, 60] ######\n",
    "###### PLOT AsyH_bin (30, 60] ######\n",
    "###### PLOT AsyH_bin (30, 60] ######\n",
    "\n",
    "\n",
    "###### PLOT AsyH_bin (60, 90] ######\n",
    "###### PLOT AsyH_bin (60, 90] ######\n",
    "###### PLOT AsyH_bin (60, 90] ######\n",
    "\n",
    "ax3.scatter(mltAzimsVarsDF['normMLT'][mltAzimsVarsDF['AsyH_bin'] == \"(60, 90]\"],\n",
    "            mltAzimsVarsDF['mean_azim'][mltAzimsVarsDF['AsyH_bin'] == \"(60, 90]\"],\n",
    "            marker='o',\n",
    "            color='orangered',\n",
    "            alpha=0.7,\n",
    "            s = 124,\n",
    "            label='(60, 90]')\n",
    "ax3.errorbar(mltAzimsVarsDF['normMLT'][mltAzimsVarsDF['AsyH_bin'] == \"(60, 90]\"],\\\n",
    "             mltAzimsVarsDF['mean_azim'][mltAzimsVarsDF['AsyH_bin'] == \"(60, 90]\"],\\\n",
    "             yerr=mltAzimsVarsDF['std_azim'][mltAzimsVarsDF['AsyH_bin'] == \"(60, 90]\"], \\\n",
    "             color='orangered', label='', capthick=2., capsize=5., fmt='o')\n",
    "\n",
    "# ax3.plot( normMLTModel90, velArrModel90, color='orangered' )\n",
    "\n",
    "ax3.xaxis.set_major_formatter(FuncFormatter(format_mlt_normMLT_ticks))\n",
    "ax3.text(-7., -100., \"60<AsyH<=90\", fontsize=10, color='orangered') \n",
    "\n",
    "###### PLOT AsyH_bin (60, 90] ######\n",
    "###### PLOT AsyH_bin (60, 90] ######\n",
    "###### PLOT AsyH_bin (60, 90] ######\n",
    "\n",
    "\n",
    "ax4.scatter(mltAzimsVarsDF['normMLT'][mltAzimsVarsDF['AsyH_bin'] == \"(90, 180]\"],\n",
    "            mltAzimsVarsDF['mean_azim'][mltAzimsVarsDF['AsyH_bin'] == \"(90, 180]\"],\n",
    "            marker='o',\n",
    "            color='firebrick',\n",
    "            alpha=0.7,\n",
    "            s = 124,\n",
    "            label='(90, 180]')\n",
    "ax4.errorbar(mltAzimsVarsDF['normMLT'][mltAzimsVarsDF['AsyH_bin'] == \"(90, 180]\"],\\\n",
    "             mltAzimsVarsDF['mean_azim'][mltAzimsVarsDF['AsyH_bin'] == \"(90, 180]\"],\\\n",
    "             yerr=mltAzimsVarsDF['std_azim'][mltAzimsVarsDF['AsyH_bin'] == \"(90, 180]\"], \\\n",
    "             color='firebrick', label='', capthick=2., capsize=5., fmt='o')\n",
    "\n",
    "ax4.plot( normMLTModel180, velArrModel180, color='firebrick' )\n",
    "\n",
    "ax4.xaxis.set_major_formatter(FuncFormatter(format_mlt_normMLT_ticks))   \n",
    "ax4.text(-7., -110., \"90<AsyH<=180\", fontsize=10, color='firebrick')\n",
    "\n",
    "\n",
    "ax4.text(-7., -100., strAzim180, fontsize=15, color='firebrick')\n",
    "ax3.text(-7., -95., strAzim90, fontsize=15, color='orangered')\n",
    "ax2.text(-7., -95., strAzim60, fontsize=15, color='seagreen')\n",
    "ax1.text(-7., -100., strAzim30, fontsize=15, color='dodgerblue')\n",
    "\n",
    "\n",
    "# ax1.set_xlabel(\"MLT\", fontsize=12)\n",
    "ax1.set_ylabel(\"Azimuth\", fontsize=14)\n",
    "# ax2.set_xlabel(\"MLT\", fontsize=14)\n",
    "# ax2.set_ylabel(\"Azimuth\", fontsize=12)\n",
    "ax3.set_xlabel(\"MLT\", fontsize=12)\n",
    "ax3.set_ylabel(\"Azimuth\", fontsize=14)\n",
    "ax4.set_xlabel(\"MLT\", fontsize=14)\n",
    "# ax4.set_ylabel(\"Azimuth\", fontsize=12)\n",
    "\n",
    "\n",
    "plt.savefig(\"../figs/Azim-MLT-Asy.pdf\",bbox_inches='tight')"
   ]
  },
  {
   "cell_type": "code",
   "execution_count": 12,
   "metadata": {},
   "outputs": [
    {
     "name": "stdout",
     "output_type": "stream",
     "text": [
      "[u'#66c2a5', u'#e6f598', u'#fee08b', u'#f46d43']\n",
      "[(0.9568627450980393, 0.42745098039215684, 0.2627450980392157), (0.996078431372549, 0.8784313725490196, 0.5450980392156862), (0.9019607843137256, 0.9607843137254902, 0.5960784313725491), (0.4, 0.7607843137254902, 0.6470588235294118)]\n"
     ]
    }
   ],
   "source": [
    "colList =[colors.rgb2hex(x) for x in sns.color_palette(\"Spectral_r\",4)]\n",
    "print colList\n",
    "print sns.color_palette(\"Spectral\",4)"
   ]
  },
  {
   "cell_type": "code",
   "execution_count": 13,
   "metadata": {},
   "outputs": [
    {
     "data": {
      "image/png": "[encoded data removed]",
      "text/plain": [
       "<matplotlib.figure.Figure at 0x7f1012fc1050>"
      ]
     },
     "metadata": {},
     "output_type": "display_data"
    }
   ],
   "source": [
    "sns.palplot(sns.color_palette(\"Spectral_r\",4))"
   ]
  },
  {
   "cell_type": "code",
   "execution_count": null,
   "metadata": {
    "collapsed": true
   },
   "outputs": [],
   "source": []
  }
 ],
 "metadata": {
  "kernelspec": {
   "display_name": "Python 2",
   "language": "python",
   "name": "python2"
  },
  "language_info": {
   "codemirror_mode": {
    "name": "ipython",
    "version": 2
   },
   "file_extension": ".py",
   "mimetype": "text/x-python",
   "name": "python",
   "nbconvert_exporter": "python",
   "pygments_lexer": "ipython2",
   "version": "2.7.6"
  }
 },
 "nbformat": 4,
 "nbformat_minor": 2
}
